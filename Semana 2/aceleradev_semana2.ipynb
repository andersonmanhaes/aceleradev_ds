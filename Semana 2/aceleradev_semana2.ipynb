{
 "cells": [
  {
   "cell_type": "markdown",
   "metadata": {},
   "source": [
    "# AceleraDev Codenation - Semana 2\n",
    "\n",
    "### Túlio Vieira de Souza | Data Scientist"
   ]
  },
  {
   "cell_type": "markdown",
   "metadata": {},
   "source": [
    "## Manipulando dados"
   ]
  },
  {
   "cell_type": "code",
   "execution_count": 1,
   "metadata": {},
   "outputs": [],
   "source": [
    "#Importando os pacotes\n",
    "import pandas as pd\n",
    "import numpy as np"
   ]
  },
  {
   "cell_type": "code",
   "execution_count": 2,
   "metadata": {},
   "outputs": [],
   "source": [
    "#acessando o help dos pacotes\n",
    "pd?"
   ]
  },
  {
   "cell_type": "markdown",
   "metadata": {},
   "source": [
    "### Dicionarios"
   ]
  },
  {
   "cell_type": "code",
   "execution_count": 3,
   "metadata": {},
   "outputs": [],
   "source": [
    "#Criando um dicionário com os dados\n",
    "dados = {'canal_venda' : ['facebook', 'twitter', 'instagram', 'linkedin', 'facebook'],\n",
    "        'acessos': [100, 200, 300 ,400, 500],\n",
    "        'site': ['site1', 'site1', 'site2', 'site2', 'site3'],\n",
    "        'vendas': [1000.52, 1052.34, 2002, 5000, 300 ]}"
   ]
  },
  {
   "cell_type": "code",
   "execution_count": 4,
   "metadata": {},
   "outputs": [
    {
     "data": {
      "text/plain": [
       "{'canal_venda': ['facebook', 'twitter', 'instagram', 'linkedin', 'facebook'],\n",
       " 'acessos': [100, 200, 300, 400, 500],\n",
       " 'site': ['site1', 'site1', 'site2', 'site2', 'site3'],\n",
       " 'vendas': [1000.52, 1052.34, 2002, 5000, 300]}"
      ]
     },
     "execution_count": 4,
     "metadata": {},
     "output_type": "execute_result"
    }
   ],
   "source": [
    "#para printar o dicionáario\n",
    "dados"
   ]
  },
  {
   "cell_type": "code",
   "execution_count": 7,
   "metadata": {},
   "outputs": [
    {
     "data": {
      "text/plain": [
       "dict"
      ]
     },
     "execution_count": 7,
     "metadata": {},
     "output_type": "execute_result"
    }
   ],
   "source": [
    "#verificando o tipo do dicionario\n",
    "type(dados)"
   ]
  },
  {
   "cell_type": "code",
   "execution_count": 8,
   "metadata": {},
   "outputs": [
    {
     "data": {
      "text/plain": [
       "dict_keys(['canal_venda', 'acessos', 'site', 'vendas'])"
      ]
     },
     "execution_count": 8,
     "metadata": {},
     "output_type": "execute_result"
    }
   ],
   "source": [
    "#Acessando as chaves do meu dicionario\n",
    "dados.keys()"
   ]
  },
  {
   "cell_type": "code",
   "execution_count": 9,
   "metadata": {},
   "outputs": [
    {
     "data": {
      "text/plain": [
       "['site1', 'site1', 'site2', 'site2', 'site3']"
      ]
     },
     "execution_count": 9,
     "metadata": {},
     "output_type": "execute_result"
    }
   ],
   "source": [
    "#Acessando uma chave especifica\n",
    "dados['site']"
   ]
  },
  {
   "cell_type": "code",
   "execution_count": 10,
   "metadata": {},
   "outputs": [
    {
     "data": {
      "text/plain": [
       "300"
      ]
     },
     "execution_count": 10,
     "metadata": {},
     "output_type": "execute_result"
    }
   ],
   "source": [
    "#Acessando uma posicao especifica de um dicionario\n",
    "dados['acessos'][2]"
   ]
  },
  {
   "cell_type": "code",
   "execution_count": 11,
   "metadata": {},
   "outputs": [
    {
     "data": {
      "text/plain": [
       "'instagram'"
      ]
     },
     "execution_count": 11,
     "metadata": {},
     "output_type": "execute_result"
    }
   ],
   "source": [
    "#Acessando uma posicao especifica de um dicionario\n",
    "dados['canal_venda'][2]"
   ]
  },
  {
   "cell_type": "code",
   "execution_count": 12,
   "metadata": {},
   "outputs": [
    {
     "data": {
      "text/plain": [
       "['facebook', 'twitter', 'instagram']"
      ]
     },
     "execution_count": 12,
     "metadata": {},
     "output_type": "execute_result"
    }
   ],
   "source": [
    "#Acessando uma posicao especifica de um dicionario\n",
    "dados['canal_venda'][:3]"
   ]
  },
  {
   "cell_type": "markdown",
   "metadata": {},
   "source": [
    "### Listas"
   ]
  },
  {
   "cell_type": "code",
   "execution_count": 13,
   "metadata": {},
   "outputs": [
    {
     "data": {
      "text/plain": [
       "list"
      ]
     },
     "execution_count": 13,
     "metadata": {},
     "output_type": "execute_result"
    }
   ],
   "source": [
    "type([1,2,3])"
   ]
  },
  {
   "cell_type": "code",
   "execution_count": 14,
   "metadata": {},
   "outputs": [],
   "source": [
    "#Criando uma lista\n",
    "lista = [200, 200 , 300 ,800, 200]"
   ]
  },
  {
   "cell_type": "code",
   "execution_count": 15,
   "metadata": {},
   "outputs": [
    {
     "data": {
      "text/plain": [
       "[200, 200, 300, 800, 200]"
      ]
     },
     "execution_count": 15,
     "metadata": {},
     "output_type": "execute_result"
    }
   ],
   "source": [
    "#printando a lista\n",
    "lista"
   ]
  },
  {
   "cell_type": "code",
   "execution_count": 16,
   "metadata": {},
   "outputs": [
    {
     "data": {
      "text/plain": [
       "200"
      ]
     },
     "execution_count": 16,
     "metadata": {},
     "output_type": "execute_result"
    }
   ],
   "source": [
    "#Vendo valores especificos\n",
    "lista[1]"
   ]
  },
  {
   "cell_type": "code",
   "execution_count": 17,
   "metadata": {},
   "outputs": [
    {
     "data": {
      "text/plain": [
       "[200, 200, 300]"
      ]
     },
     "execution_count": 17,
     "metadata": {},
     "output_type": "execute_result"
    }
   ],
   "source": [
    "#fatia da lista\n",
    "lista[:3]"
   ]
  },
  {
   "cell_type": "code",
   "execution_count": 18,
   "metadata": {},
   "outputs": [],
   "source": [
    "# Adicionando a lista ao dicionario \n",
    "dados['lista'] = lista"
   ]
  },
  {
   "cell_type": "code",
   "execution_count": 19,
   "metadata": {},
   "outputs": [
    {
     "data": {
      "text/plain": [
       "{'canal_venda': ['facebook', 'twitter', 'instagram', 'linkedin', 'facebook'],\n",
       " 'acessos': [100, 200, 300, 400, 500],\n",
       " 'site': ['site1', 'site1', 'site2', 'site2', 'site3'],\n",
       " 'vendas': [1000.52, 1052.34, 2002, 5000, 300],\n",
       " 'lista': [200, 200, 300, 800, 200]}"
      ]
     },
     "execution_count": 19,
     "metadata": {},
     "output_type": "execute_result"
    }
   ],
   "source": [
    "dados"
   ]
  },
  {
   "cell_type": "markdown",
   "metadata": {},
   "source": [
    "### DataFrames"
   ]
  },
  {
   "cell_type": "code",
   "execution_count": 20,
   "metadata": {},
   "outputs": [
    {
     "data": {
      "text/plain": [
       "{'canal_venda': ['facebook', 'twitter', 'instagram', 'linkedin', 'facebook'],\n",
       " 'acessos': [100, 200, 300, 400, 500],\n",
       " 'site': ['site1', 'site1', 'site2', 'site2', 'site3'],\n",
       " 'vendas': [1000.52, 1052.34, 2002, 5000, 300],\n",
       " 'lista': [200, 200, 300, 800, 200]}"
      ]
     },
     "execution_count": 20,
     "metadata": {},
     "output_type": "execute_result"
    }
   ],
   "source": [
    "dados"
   ]
  },
  {
   "cell_type": "code",
   "execution_count": 21,
   "metadata": {},
   "outputs": [],
   "source": [
    "#Criar um data frame a partir de um dict\n",
    "dataframe = pd.DataFrame(dados)"
   ]
  },
  {
   "cell_type": "code",
   "execution_count": 22,
   "metadata": {},
   "outputs": [
    {
     "data": {
      "text/html": [
       "<div>\n",
       "<style scoped>\n",
       "    .dataframe tbody tr th:only-of-type {\n",
       "        vertical-align: middle;\n",
       "    }\n",
       "\n",
       "    .dataframe tbody tr th {\n",
       "        vertical-align: top;\n",
       "    }\n",
       "\n",
       "    .dataframe thead th {\n",
       "        text-align: right;\n",
       "    }\n",
       "</style>\n",
       "<table border=\"1\" class=\"dataframe\">\n",
       "  <thead>\n",
       "    <tr style=\"text-align: right;\">\n",
       "      <th></th>\n",
       "      <th>canal_venda</th>\n",
       "      <th>acessos</th>\n",
       "      <th>site</th>\n",
       "      <th>vendas</th>\n",
       "      <th>lista</th>\n",
       "    </tr>\n",
       "  </thead>\n",
       "  <tbody>\n",
       "    <tr>\n",
       "      <th>0</th>\n",
       "      <td>facebook</td>\n",
       "      <td>100</td>\n",
       "      <td>site1</td>\n",
       "      <td>1000.52</td>\n",
       "      <td>200</td>\n",
       "    </tr>\n",
       "    <tr>\n",
       "      <th>1</th>\n",
       "      <td>twitter</td>\n",
       "      <td>200</td>\n",
       "      <td>site1</td>\n",
       "      <td>1052.34</td>\n",
       "      <td>200</td>\n",
       "    </tr>\n",
       "    <tr>\n",
       "      <th>2</th>\n",
       "      <td>instagram</td>\n",
       "      <td>300</td>\n",
       "      <td>site2</td>\n",
       "      <td>2002.00</td>\n",
       "      <td>300</td>\n",
       "    </tr>\n",
       "    <tr>\n",
       "      <th>3</th>\n",
       "      <td>linkedin</td>\n",
       "      <td>400</td>\n",
       "      <td>site2</td>\n",
       "      <td>5000.00</td>\n",
       "      <td>800</td>\n",
       "    </tr>\n",
       "    <tr>\n",
       "      <th>4</th>\n",
       "      <td>facebook</td>\n",
       "      <td>500</td>\n",
       "      <td>site3</td>\n",
       "      <td>300.00</td>\n",
       "      <td>200</td>\n",
       "    </tr>\n",
       "  </tbody>\n",
       "</table>\n",
       "</div>"
      ],
      "text/plain": [
       "  canal_venda  acessos   site   vendas  lista\n",
       "0    facebook      100  site1  1000.52    200\n",
       "1     twitter      200  site1  1052.34    200\n",
       "2   instagram      300  site2  2002.00    300\n",
       "3    linkedin      400  site2  5000.00    800\n",
       "4    facebook      500  site3   300.00    200"
      ]
     },
     "execution_count": 22,
     "metadata": {},
     "output_type": "execute_result"
    }
   ],
   "source": [
    "#acessando o dataframe\n",
    "dataframe"
   ]
  },
  {
   "cell_type": "code",
   "execution_count": 23,
   "metadata": {},
   "outputs": [
    {
     "data": {
      "text/html": [
       "<div>\n",
       "<style scoped>\n",
       "    .dataframe tbody tr th:only-of-type {\n",
       "        vertical-align: middle;\n",
       "    }\n",
       "\n",
       "    .dataframe tbody tr th {\n",
       "        vertical-align: top;\n",
       "    }\n",
       "\n",
       "    .dataframe thead th {\n",
       "        text-align: right;\n",
       "    }\n",
       "</style>\n",
       "<table border=\"1\" class=\"dataframe\">\n",
       "  <thead>\n",
       "    <tr style=\"text-align: right;\">\n",
       "      <th></th>\n",
       "      <th>canal_venda</th>\n",
       "      <th>acessos</th>\n",
       "      <th>site</th>\n",
       "      <th>vendas</th>\n",
       "      <th>lista</th>\n",
       "    </tr>\n",
       "  </thead>\n",
       "  <tbody>\n",
       "    <tr>\n",
       "      <th>0</th>\n",
       "      <td>facebook</td>\n",
       "      <td>100</td>\n",
       "      <td>site1</td>\n",
       "      <td>1000.52</td>\n",
       "      <td>200</td>\n",
       "    </tr>\n",
       "    <tr>\n",
       "      <th>1</th>\n",
       "      <td>twitter</td>\n",
       "      <td>200</td>\n",
       "      <td>site1</td>\n",
       "      <td>1052.34</td>\n",
       "      <td>200</td>\n",
       "    </tr>\n",
       "  </tbody>\n",
       "</table>\n",
       "</div>"
      ],
      "text/plain": [
       "  canal_venda  acessos   site   vendas  lista\n",
       "0    facebook      100  site1  1000.52    200\n",
       "1     twitter      200  site1  1052.34    200"
      ]
     },
     "execution_count": 23,
     "metadata": {},
     "output_type": "execute_result"
    }
   ],
   "source": [
    "#printando os primeiros casos do dataframe\n",
    "dataframe.head(2)"
   ]
  },
  {
   "cell_type": "code",
   "execution_count": 24,
   "metadata": {},
   "outputs": [
    {
     "data": {
      "text/plain": [
       "(5, 5)"
      ]
     },
     "execution_count": 24,
     "metadata": {},
     "output_type": "execute_result"
    }
   ],
   "source": [
    "#Verificando o formato do dataframe\n",
    "dataframe.shape"
   ]
  },
  {
   "cell_type": "code",
   "execution_count": 25,
   "metadata": {},
   "outputs": [],
   "source": [
    "QQRNOME = dataframe"
   ]
  },
  {
   "cell_type": "code",
   "execution_count": 26,
   "metadata": {},
   "outputs": [
    {
     "data": {
      "text/plain": [
       "(5, 5)"
      ]
     },
     "execution_count": 26,
     "metadata": {},
     "output_type": "execute_result"
    }
   ],
   "source": [
    "QQRNOME.shape"
   ]
  },
  {
   "cell_type": "code",
   "execution_count": 27,
   "metadata": {},
   "outputs": [
    {
     "data": {
      "text/plain": [
       "pandas.core.frame.DataFrame"
      ]
     },
     "execution_count": 27,
     "metadata": {},
     "output_type": "execute_result"
    }
   ],
   "source": [
    "type(QQRNOME)"
   ]
  },
  {
   "cell_type": "code",
   "execution_count": 28,
   "metadata": {},
   "outputs": [
    {
     "data": {
      "text/plain": [
       "RangeIndex(start=0, stop=5, step=1)"
      ]
     },
     "execution_count": 28,
     "metadata": {},
     "output_type": "execute_result"
    }
   ],
   "source": [
    "#Verificando o indice do dataframe\n",
    "dataframe.index"
   ]
  },
  {
   "cell_type": "code",
   "execution_count": 29,
   "metadata": {},
   "outputs": [
    {
     "data": {
      "text/plain": [
       "canal_venda     object\n",
       "acessos          int64\n",
       "site            object\n",
       "vendas         float64\n",
       "lista            int64\n",
       "dtype: object"
      ]
     },
     "execution_count": 29,
     "metadata": {},
     "output_type": "execute_result"
    }
   ],
   "source": [
    "#Verificando os tipos dos dados do dataframe\n",
    "dataframe.dtypes"
   ]
  },
  {
   "cell_type": "code",
   "execution_count": 30,
   "metadata": {},
   "outputs": [
    {
     "data": {
      "text/html": [
       "<div>\n",
       "<style scoped>\n",
       "    .dataframe tbody tr th:only-of-type {\n",
       "        vertical-align: middle;\n",
       "    }\n",
       "\n",
       "    .dataframe tbody tr th {\n",
       "        vertical-align: top;\n",
       "    }\n",
       "\n",
       "    .dataframe thead th {\n",
       "        text-align: right;\n",
       "    }\n",
       "</style>\n",
       "<table border=\"1\" class=\"dataframe\">\n",
       "  <thead>\n",
       "    <tr style=\"text-align: right;\">\n",
       "      <th></th>\n",
       "      <th>canal_venda</th>\n",
       "      <th>acessos</th>\n",
       "      <th>site</th>\n",
       "      <th>vendas</th>\n",
       "      <th>lista</th>\n",
       "    </tr>\n",
       "  </thead>\n",
       "  <tbody>\n",
       "    <tr>\n",
       "      <th>0</th>\n",
       "      <td>False</td>\n",
       "      <td>False</td>\n",
       "      <td>False</td>\n",
       "      <td>False</td>\n",
       "      <td>False</td>\n",
       "    </tr>\n",
       "    <tr>\n",
       "      <th>1</th>\n",
       "      <td>False</td>\n",
       "      <td>False</td>\n",
       "      <td>False</td>\n",
       "      <td>False</td>\n",
       "      <td>False</td>\n",
       "    </tr>\n",
       "    <tr>\n",
       "      <th>2</th>\n",
       "      <td>False</td>\n",
       "      <td>False</td>\n",
       "      <td>False</td>\n",
       "      <td>False</td>\n",
       "      <td>False</td>\n",
       "    </tr>\n",
       "    <tr>\n",
       "      <th>3</th>\n",
       "      <td>False</td>\n",
       "      <td>False</td>\n",
       "      <td>False</td>\n",
       "      <td>False</td>\n",
       "      <td>False</td>\n",
       "    </tr>\n",
       "    <tr>\n",
       "      <th>4</th>\n",
       "      <td>False</td>\n",
       "      <td>False</td>\n",
       "      <td>False</td>\n",
       "      <td>False</td>\n",
       "      <td>False</td>\n",
       "    </tr>\n",
       "  </tbody>\n",
       "</table>\n",
       "</div>"
      ],
      "text/plain": [
       "   canal_venda  acessos   site  vendas  lista\n",
       "0        False    False  False   False  False\n",
       "1        False    False  False   False  False\n",
       "2        False    False  False   False  False\n",
       "3        False    False  False   False  False\n",
       "4        False    False  False   False  False"
      ]
     },
     "execution_count": 30,
     "metadata": {},
     "output_type": "execute_result"
    }
   ],
   "source": [
    "#Verificando se existem valores faltantes\n",
    "dataframe.isna()"
   ]
  },
  {
   "cell_type": "code",
   "execution_count": 31,
   "metadata": {},
   "outputs": [
    {
     "data": {
      "text/plain": [
       "canal_venda    0\n",
       "acessos        0\n",
       "site           0\n",
       "vendas         0\n",
       "lista          0\n",
       "dtype: int64"
      ]
     },
     "execution_count": 31,
     "metadata": {},
     "output_type": "execute_result"
    }
   ],
   "source": [
    "dataframe.isna().sum()"
   ]
  },
  {
   "cell_type": "code",
   "execution_count": 32,
   "metadata": {},
   "outputs": [
    {
     "data": {
      "text/plain": [
       "canal_venda    5\n",
       "acessos        5\n",
       "site           5\n",
       "vendas         5\n",
       "lista          5\n",
       "dtype: int64"
      ]
     },
     "execution_count": 32,
     "metadata": {},
     "output_type": "execute_result"
    }
   ],
   "source": [
    "dataframe.isna().count()"
   ]
  },
  {
   "cell_type": "code",
   "execution_count": 33,
   "metadata": {},
   "outputs": [
    {
     "data": {
      "text/plain": [
       "Index(['canal_venda', 'acessos', 'site', 'vendas', 'lista'], dtype='object')"
      ]
     },
     "execution_count": 33,
     "metadata": {},
     "output_type": "execute_result"
    }
   ],
   "source": [
    "#printando os nomes das colunas\n",
    "dataframe.columns"
   ]
  },
  {
   "cell_type": "code",
   "execution_count": 34,
   "metadata": {},
   "outputs": [
    {
     "data": {
      "text/plain": [
       "0     facebook\n",
       "1      twitter\n",
       "2    instagram\n",
       "3     linkedin\n",
       "4     facebook\n",
       "Name: canal_venda, dtype: object"
      ]
     },
     "execution_count": 34,
     "metadata": {},
     "output_type": "execute_result"
    }
   ],
   "source": [
    "#Acessando uma coluna especifica\n",
    "dataframe['canal_venda']"
   ]
  },
  {
   "cell_type": "code",
   "execution_count": 35,
   "metadata": {},
   "outputs": [
    {
     "data": {
      "text/plain": [
       "['facebook', 'twitter', 'instagram', 'linkedin', 'facebook']"
      ]
     },
     "execution_count": 35,
     "metadata": {},
     "output_type": "execute_result"
    }
   ],
   "source": [
    "# transformar em uma lista uma coluna especifica\n",
    "list(dataframe['canal_venda'])"
   ]
  },
  {
   "cell_type": "code",
   "execution_count": 36,
   "metadata": {},
   "outputs": [],
   "source": [
    "# Criando uma nova coluna\n",
    "dataframe['nova_coluna'] = [1, 2, 3, 4, 5]"
   ]
  },
  {
   "cell_type": "code",
   "execution_count": 37,
   "metadata": {},
   "outputs": [
    {
     "data": {
      "text/html": [
       "<div>\n",
       "<style scoped>\n",
       "    .dataframe tbody tr th:only-of-type {\n",
       "        vertical-align: middle;\n",
       "    }\n",
       "\n",
       "    .dataframe tbody tr th {\n",
       "        vertical-align: top;\n",
       "    }\n",
       "\n",
       "    .dataframe thead th {\n",
       "        text-align: right;\n",
       "    }\n",
       "</style>\n",
       "<table border=\"1\" class=\"dataframe\">\n",
       "  <thead>\n",
       "    <tr style=\"text-align: right;\">\n",
       "      <th></th>\n",
       "      <th>canal_venda</th>\n",
       "      <th>acessos</th>\n",
       "      <th>site</th>\n",
       "      <th>vendas</th>\n",
       "      <th>lista</th>\n",
       "      <th>nova_coluna</th>\n",
       "    </tr>\n",
       "  </thead>\n",
       "  <tbody>\n",
       "    <tr>\n",
       "      <th>0</th>\n",
       "      <td>facebook</td>\n",
       "      <td>100</td>\n",
       "      <td>site1</td>\n",
       "      <td>1000.52</td>\n",
       "      <td>200</td>\n",
       "      <td>1</td>\n",
       "    </tr>\n",
       "    <tr>\n",
       "      <th>1</th>\n",
       "      <td>twitter</td>\n",
       "      <td>200</td>\n",
       "      <td>site1</td>\n",
       "      <td>1052.34</td>\n",
       "      <td>200</td>\n",
       "      <td>2</td>\n",
       "    </tr>\n",
       "    <tr>\n",
       "      <th>2</th>\n",
       "      <td>instagram</td>\n",
       "      <td>300</td>\n",
       "      <td>site2</td>\n",
       "      <td>2002.00</td>\n",
       "      <td>300</td>\n",
       "      <td>3</td>\n",
       "    </tr>\n",
       "    <tr>\n",
       "      <th>3</th>\n",
       "      <td>linkedin</td>\n",
       "      <td>400</td>\n",
       "      <td>site2</td>\n",
       "      <td>5000.00</td>\n",
       "      <td>800</td>\n",
       "      <td>4</td>\n",
       "    </tr>\n",
       "    <tr>\n",
       "      <th>4</th>\n",
       "      <td>facebook</td>\n",
       "      <td>500</td>\n",
       "      <td>site3</td>\n",
       "      <td>300.00</td>\n",
       "      <td>200</td>\n",
       "      <td>5</td>\n",
       "    </tr>\n",
       "  </tbody>\n",
       "</table>\n",
       "</div>"
      ],
      "text/plain": [
       "  canal_venda  acessos   site   vendas  lista  nova_coluna\n",
       "0    facebook      100  site1  1000.52    200            1\n",
       "1     twitter      200  site1  1052.34    200            2\n",
       "2   instagram      300  site2  2002.00    300            3\n",
       "3    linkedin      400  site2  5000.00    800            4\n",
       "4    facebook      500  site3   300.00    200            5"
      ]
     },
     "execution_count": 37,
     "metadata": {},
     "output_type": "execute_result"
    }
   ],
   "source": [
    "dataframe"
   ]
  },
  {
   "cell_type": "code",
   "execution_count": 38,
   "metadata": {},
   "outputs": [
    {
     "data": {
      "text/plain": [
       "Index(['canal_venda', 'acessos', 'site', 'vendas', 'lista', 'nova_coluna'], dtype='object')"
      ]
     },
     "execution_count": 38,
     "metadata": {},
     "output_type": "execute_result"
    }
   ],
   "source": [
    "dataframe.columns"
   ]
  },
  {
   "cell_type": "code",
   "execution_count": 39,
   "metadata": {},
   "outputs": [
    {
     "data": {
      "text/html": [
       "<div>\n",
       "<style scoped>\n",
       "    .dataframe tbody tr th:only-of-type {\n",
       "        vertical-align: middle;\n",
       "    }\n",
       "\n",
       "    .dataframe tbody tr th {\n",
       "        vertical-align: top;\n",
       "    }\n",
       "\n",
       "    .dataframe thead th {\n",
       "        text-align: right;\n",
       "    }\n",
       "</style>\n",
       "<table border=\"1\" class=\"dataframe\">\n",
       "  <thead>\n",
       "    <tr style=\"text-align: right;\">\n",
       "      <th></th>\n",
       "      <th>vendas</th>\n",
       "      <th>lista</th>\n",
       "      <th>nova_coluna</th>\n",
       "    </tr>\n",
       "  </thead>\n",
       "  <tbody>\n",
       "    <tr>\n",
       "      <th>0</th>\n",
       "      <td>1000.52</td>\n",
       "      <td>200</td>\n",
       "      <td>1</td>\n",
       "    </tr>\n",
       "    <tr>\n",
       "      <th>1</th>\n",
       "      <td>1052.34</td>\n",
       "      <td>200</td>\n",
       "      <td>2</td>\n",
       "    </tr>\n",
       "    <tr>\n",
       "      <th>2</th>\n",
       "      <td>2002.00</td>\n",
       "      <td>300</td>\n",
       "      <td>3</td>\n",
       "    </tr>\n",
       "    <tr>\n",
       "      <th>3</th>\n",
       "      <td>5000.00</td>\n",
       "      <td>800</td>\n",
       "      <td>4</td>\n",
       "    </tr>\n",
       "    <tr>\n",
       "      <th>4</th>\n",
       "      <td>300.00</td>\n",
       "      <td>200</td>\n",
       "      <td>5</td>\n",
       "    </tr>\n",
       "  </tbody>\n",
       "</table>\n",
       "</div>"
      ],
      "text/plain": [
       "    vendas  lista  nova_coluna\n",
       "0  1000.52    200            1\n",
       "1  1052.34    200            2\n",
       "2  2002.00    300            3\n",
       "3  5000.00    800            4\n",
       "4   300.00    200            5"
      ]
     },
     "execution_count": 39,
     "metadata": {},
     "output_type": "execute_result"
    }
   ],
   "source": [
    "# Removendo colunas para esta visualizacao mas nao remove do dataframe\n",
    "dataframe.drop(columns = ['acessos','site', 'canal_venda'])\n",
    "\n",
    "#para remove definitivo do dataframe utilizar o parametro inplace\n",
    "# dataframe.drop(columns = ['acessos','site', 'canal_venda'], inplace = True)\n",
    "# ou \n",
    "# dataframe = dataframe.drop(columns = ['acessos','site', 'canal_venda'])"
   ]
  },
  {
   "cell_type": "code",
   "execution_count": 40,
   "metadata": {},
   "outputs": [
    {
     "data": {
      "text/html": [
       "<div>\n",
       "<style scoped>\n",
       "    .dataframe tbody tr th:only-of-type {\n",
       "        vertical-align: middle;\n",
       "    }\n",
       "\n",
       "    .dataframe tbody tr th {\n",
       "        vertical-align: top;\n",
       "    }\n",
       "\n",
       "    .dataframe thead th {\n",
       "        text-align: right;\n",
       "    }\n",
       "</style>\n",
       "<table border=\"1\" class=\"dataframe\">\n",
       "  <thead>\n",
       "    <tr style=\"text-align: right;\">\n",
       "      <th></th>\n",
       "      <th>canal_venda</th>\n",
       "      <th>acessos</th>\n",
       "      <th>site</th>\n",
       "      <th>vendas</th>\n",
       "      <th>lista</th>\n",
       "      <th>nova_coluna</th>\n",
       "    </tr>\n",
       "  </thead>\n",
       "  <tbody>\n",
       "    <tr>\n",
       "      <th>0</th>\n",
       "      <td>facebook</td>\n",
       "      <td>100</td>\n",
       "      <td>site1</td>\n",
       "      <td>1000.52</td>\n",
       "      <td>200</td>\n",
       "      <td>1</td>\n",
       "    </tr>\n",
       "    <tr>\n",
       "      <th>1</th>\n",
       "      <td>twitter</td>\n",
       "      <td>200</td>\n",
       "      <td>site1</td>\n",
       "      <td>1052.34</td>\n",
       "      <td>200</td>\n",
       "      <td>2</td>\n",
       "    </tr>\n",
       "    <tr>\n",
       "      <th>2</th>\n",
       "      <td>instagram</td>\n",
       "      <td>300</td>\n",
       "      <td>site2</td>\n",
       "      <td>2002.00</td>\n",
       "      <td>300</td>\n",
       "      <td>3</td>\n",
       "    </tr>\n",
       "    <tr>\n",
       "      <th>3</th>\n",
       "      <td>linkedin</td>\n",
       "      <td>400</td>\n",
       "      <td>site2</td>\n",
       "      <td>5000.00</td>\n",
       "      <td>800</td>\n",
       "      <td>4</td>\n",
       "    </tr>\n",
       "    <tr>\n",
       "      <th>4</th>\n",
       "      <td>facebook</td>\n",
       "      <td>500</td>\n",
       "      <td>site3</td>\n",
       "      <td>300.00</td>\n",
       "      <td>200</td>\n",
       "      <td>5</td>\n",
       "    </tr>\n",
       "  </tbody>\n",
       "</table>\n",
       "</div>"
      ],
      "text/plain": [
       "  canal_venda  acessos   site   vendas  lista  nova_coluna\n",
       "0    facebook      100  site1  1000.52    200            1\n",
       "1     twitter      200  site1  1052.34    200            2\n",
       "2   instagram      300  site2  2002.00    300            3\n",
       "3    linkedin      400  site2  5000.00    800            4\n",
       "4    facebook      500  site3   300.00    200            5"
      ]
     },
     "execution_count": 40,
     "metadata": {},
     "output_type": "execute_result"
    }
   ],
   "source": [
    "dataframe"
   ]
  },
  {
   "cell_type": "code",
   "execution_count": 41,
   "metadata": {},
   "outputs": [
    {
     "data": {
      "text/plain": [
       "Index(['canal_venda', 'acessos', 'site', 'vendas', 'lista', 'nova_coluna'], dtype='object')"
      ]
     },
     "execution_count": 41,
     "metadata": {},
     "output_type": "execute_result"
    }
   ],
   "source": [
    "#Mostrando as colunas\n",
    "dataframe.columns"
   ]
  },
  {
   "cell_type": "code",
   "execution_count": 42,
   "metadata": {},
   "outputs": [
    {
     "data": {
      "text/plain": [
       "200"
      ]
     },
     "execution_count": 42,
     "metadata": {},
     "output_type": "execute_result"
    }
   ],
   "source": [
    "#Acessando valores especificos\n",
    "dataframe['acessos'][1]"
   ]
  },
  {
   "cell_type": "code",
   "execution_count": 43,
   "metadata": {},
   "outputs": [
    {
     "data": {
      "text/plain": [
       "0    facebook\n",
       "1     twitter\n",
       "Name: canal_venda, dtype: object"
      ]
     },
     "execution_count": 43,
     "metadata": {},
     "output_type": "execute_result"
    }
   ],
   "source": [
    "#Acessando fatia de coluna especifica\n",
    "dataframe['canal_venda'][:2]"
   ]
  },
  {
   "cell_type": "code",
   "execution_count": 44,
   "metadata": {},
   "outputs": [
    {
     "data": {
      "text/html": [
       "<div>\n",
       "<style scoped>\n",
       "    .dataframe tbody tr th:only-of-type {\n",
       "        vertical-align: middle;\n",
       "    }\n",
       "\n",
       "    .dataframe tbody tr th {\n",
       "        vertical-align: top;\n",
       "    }\n",
       "\n",
       "    .dataframe thead th {\n",
       "        text-align: right;\n",
       "    }\n",
       "</style>\n",
       "<table border=\"1\" class=\"dataframe\">\n",
       "  <thead>\n",
       "    <tr style=\"text-align: right;\">\n",
       "      <th></th>\n",
       "      <th>canal_venda</th>\n",
       "      <th>acessos</th>\n",
       "      <th>site</th>\n",
       "      <th>vendas</th>\n",
       "      <th>lista</th>\n",
       "      <th>nova_coluna</th>\n",
       "    </tr>\n",
       "  </thead>\n",
       "  <tbody>\n",
       "    <tr>\n",
       "      <th>0</th>\n",
       "      <td>facebook</td>\n",
       "      <td>100</td>\n",
       "      <td>site1</td>\n",
       "      <td>1000.52</td>\n",
       "      <td>200</td>\n",
       "      <td>1</td>\n",
       "    </tr>\n",
       "    <tr>\n",
       "      <th>1</th>\n",
       "      <td>twitter</td>\n",
       "      <td>200</td>\n",
       "      <td>site1</td>\n",
       "      <td>1052.34</td>\n",
       "      <td>200</td>\n",
       "      <td>2</td>\n",
       "    </tr>\n",
       "    <tr>\n",
       "      <th>2</th>\n",
       "      <td>instagram</td>\n",
       "      <td>300</td>\n",
       "      <td>site2</td>\n",
       "      <td>2002.00</td>\n",
       "      <td>300</td>\n",
       "      <td>3</td>\n",
       "    </tr>\n",
       "    <tr>\n",
       "      <th>3</th>\n",
       "      <td>linkedin</td>\n",
       "      <td>400</td>\n",
       "      <td>site2</td>\n",
       "      <td>5000.00</td>\n",
       "      <td>800</td>\n",
       "      <td>4</td>\n",
       "    </tr>\n",
       "    <tr>\n",
       "      <th>4</th>\n",
       "      <td>facebook</td>\n",
       "      <td>500</td>\n",
       "      <td>site3</td>\n",
       "      <td>300.00</td>\n",
       "      <td>200</td>\n",
       "      <td>5</td>\n",
       "    </tr>\n",
       "  </tbody>\n",
       "</table>\n",
       "</div>"
      ],
      "text/plain": [
       "  canal_venda  acessos   site   vendas  lista  nova_coluna\n",
       "0    facebook      100  site1  1000.52    200            1\n",
       "1     twitter      200  site1  1052.34    200            2\n",
       "2   instagram      300  site2  2002.00    300            3\n",
       "3    linkedin      400  site2  5000.00    800            4\n",
       "4    facebook      500  site3   300.00    200            5"
      ]
     },
     "execution_count": 44,
     "metadata": {},
     "output_type": "execute_result"
    }
   ],
   "source": [
    "dataframe"
   ]
  },
  {
   "cell_type": "code",
   "execution_count": 52,
   "metadata": {},
   "outputs": [
    {
     "data": {
      "text/html": [
       "<div>\n",
       "<style scoped>\n",
       "    .dataframe tbody tr th:only-of-type {\n",
       "        vertical-align: middle;\n",
       "    }\n",
       "\n",
       "    .dataframe tbody tr th {\n",
       "        vertical-align: top;\n",
       "    }\n",
       "\n",
       "    .dataframe thead th {\n",
       "        text-align: right;\n",
       "    }\n",
       "</style>\n",
       "<table border=\"1\" class=\"dataframe\">\n",
       "  <thead>\n",
       "    <tr style=\"text-align: right;\">\n",
       "      <th></th>\n",
       "      <th>lista</th>\n",
       "      <th>nova_coluna</th>\n",
       "    </tr>\n",
       "  </thead>\n",
       "  <tbody>\n",
       "    <tr>\n",
       "      <th>3</th>\n",
       "      <td>800</td>\n",
       "      <td>4</td>\n",
       "    </tr>\n",
       "    <tr>\n",
       "      <th>4</th>\n",
       "      <td>200</td>\n",
       "      <td>5</td>\n",
       "    </tr>\n",
       "  </tbody>\n",
       "</table>\n",
       "</div>"
      ],
      "text/plain": [
       "   lista  nova_coluna\n",
       "3    800            4\n",
       "4    200            5"
      ]
     },
     "execution_count": 52,
     "metadata": {},
     "output_type": "execute_result"
    }
   ],
   "source": [
    "### Fatiando os dados usando o iloc (linhas | colunas)\n",
    "dataframe.iloc[3:,4:]"
   ]
  },
  {
   "cell_type": "code",
   "execution_count": 53,
   "metadata": {},
   "outputs": [
    {
     "data": {
      "text/html": [
       "<div>\n",
       "<style scoped>\n",
       "    .dataframe tbody tr th:only-of-type {\n",
       "        vertical-align: middle;\n",
       "    }\n",
       "\n",
       "    .dataframe tbody tr th {\n",
       "        vertical-align: top;\n",
       "    }\n",
       "\n",
       "    .dataframe thead th {\n",
       "        text-align: right;\n",
       "    }\n",
       "</style>\n",
       "<table border=\"1\" class=\"dataframe\">\n",
       "  <thead>\n",
       "    <tr style=\"text-align: right;\">\n",
       "      <th></th>\n",
       "      <th>canal_venda</th>\n",
       "      <th>acessos</th>\n",
       "      <th>site</th>\n",
       "      <th>vendas</th>\n",
       "      <th>lista</th>\n",
       "      <th>nova_coluna</th>\n",
       "    </tr>\n",
       "  </thead>\n",
       "  <tbody>\n",
       "    <tr>\n",
       "      <th>0</th>\n",
       "      <td>facebook</td>\n",
       "      <td>100</td>\n",
       "      <td>site1</td>\n",
       "      <td>1000.52</td>\n",
       "      <td>200</td>\n",
       "      <td>1</td>\n",
       "    </tr>\n",
       "    <tr>\n",
       "      <th>1</th>\n",
       "      <td>twitter</td>\n",
       "      <td>200</td>\n",
       "      <td>site1</td>\n",
       "      <td>1052.34</td>\n",
       "      <td>200</td>\n",
       "      <td>2</td>\n",
       "    </tr>\n",
       "    <tr>\n",
       "      <th>2</th>\n",
       "      <td>instagram</td>\n",
       "      <td>300</td>\n",
       "      <td>site2</td>\n",
       "      <td>2002.00</td>\n",
       "      <td>300</td>\n",
       "      <td>3</td>\n",
       "    </tr>\n",
       "    <tr>\n",
       "      <th>3</th>\n",
       "      <td>linkedin</td>\n",
       "      <td>400</td>\n",
       "      <td>site2</td>\n",
       "      <td>5000.00</td>\n",
       "      <td>800</td>\n",
       "      <td>4</td>\n",
       "    </tr>\n",
       "    <tr>\n",
       "      <th>4</th>\n",
       "      <td>facebook</td>\n",
       "      <td>500</td>\n",
       "      <td>site3</td>\n",
       "      <td>300.00</td>\n",
       "      <td>200</td>\n",
       "      <td>5</td>\n",
       "    </tr>\n",
       "  </tbody>\n",
       "</table>\n",
       "</div>"
      ],
      "text/plain": [
       "  canal_venda  acessos   site   vendas  lista  nova_coluna\n",
       "0    facebook      100  site1  1000.52    200            1\n",
       "1     twitter      200  site1  1052.34    200            2\n",
       "2   instagram      300  site2  2002.00    300            3\n",
       "3    linkedin      400  site2  5000.00    800            4\n",
       "4    facebook      500  site3   300.00    200            5"
      ]
     },
     "execution_count": 53,
     "metadata": {},
     "output_type": "execute_result"
    }
   ],
   "source": [
    "dataframe"
   ]
  },
  {
   "cell_type": "code",
   "execution_count": 59,
   "metadata": {},
   "outputs": [
    {
     "data": {
      "text/html": [
       "<div>\n",
       "<style scoped>\n",
       "    .dataframe tbody tr th:only-of-type {\n",
       "        vertical-align: middle;\n",
       "    }\n",
       "\n",
       "    .dataframe tbody tr th {\n",
       "        vertical-align: top;\n",
       "    }\n",
       "\n",
       "    .dataframe thead th {\n",
       "        text-align: right;\n",
       "    }\n",
       "</style>\n",
       "<table border=\"1\" class=\"dataframe\">\n",
       "  <thead>\n",
       "    <tr style=\"text-align: right;\">\n",
       "      <th></th>\n",
       "      <th>canal_venda</th>\n",
       "      <th>acessos</th>\n",
       "      <th>site</th>\n",
       "      <th>vendas</th>\n",
       "      <th>lista</th>\n",
       "      <th>nova_coluna</th>\n",
       "    </tr>\n",
       "  </thead>\n",
       "  <tbody>\n",
       "    <tr>\n",
       "      <th>0</th>\n",
       "      <td>facebook</td>\n",
       "      <td>100</td>\n",
       "      <td>site1</td>\n",
       "      <td>1000.52</td>\n",
       "      <td>200</td>\n",
       "      <td>1</td>\n",
       "    </tr>\n",
       "    <tr>\n",
       "      <th>1</th>\n",
       "      <td>twitter</td>\n",
       "      <td>200</td>\n",
       "      <td>site1</td>\n",
       "      <td>1052.34</td>\n",
       "      <td>200</td>\n",
       "      <td>2</td>\n",
       "    </tr>\n",
       "    <tr>\n",
       "      <th>2</th>\n",
       "      <td>instagram</td>\n",
       "      <td>300</td>\n",
       "      <td>site2</td>\n",
       "      <td>2002.00</td>\n",
       "      <td>300</td>\n",
       "      <td>3</td>\n",
       "    </tr>\n",
       "    <tr>\n",
       "      <th>3</th>\n",
       "      <td>linkedin</td>\n",
       "      <td>400</td>\n",
       "      <td>site2</td>\n",
       "      <td>5000.00</td>\n",
       "      <td>800</td>\n",
       "      <td>4</td>\n",
       "    </tr>\n",
       "  </tbody>\n",
       "</table>\n",
       "</div>"
      ],
      "text/plain": [
       "  canal_venda  acessos   site   vendas  lista  nova_coluna\n",
       "0    facebook      100  site1  1000.52    200            1\n",
       "1     twitter      200  site1  1052.34    200            2\n",
       "2   instagram      300  site2  2002.00    300            3\n",
       "3    linkedin      400  site2  5000.00    800            4"
      ]
     },
     "execution_count": 59,
     "metadata": {},
     "output_type": "execute_result"
    }
   ],
   "source": [
    "#Fatiar os dados usando o loc (indice)\n",
    "dataframe.loc[:3]"
   ]
  },
  {
   "cell_type": "code",
   "execution_count": 60,
   "metadata": {},
   "outputs": [
    {
     "data": {
      "text/html": [
       "<div>\n",
       "<style scoped>\n",
       "    .dataframe tbody tr th:only-of-type {\n",
       "        vertical-align: middle;\n",
       "    }\n",
       "\n",
       "    .dataframe tbody tr th {\n",
       "        vertical-align: top;\n",
       "    }\n",
       "\n",
       "    .dataframe thead th {\n",
       "        text-align: right;\n",
       "    }\n",
       "</style>\n",
       "<table border=\"1\" class=\"dataframe\">\n",
       "  <thead>\n",
       "    <tr style=\"text-align: right;\">\n",
       "      <th></th>\n",
       "      <th>canal_venda</th>\n",
       "      <th>vendas</th>\n",
       "    </tr>\n",
       "  </thead>\n",
       "  <tbody>\n",
       "    <tr>\n",
       "      <th>0</th>\n",
       "      <td>facebook</td>\n",
       "      <td>1000.52</td>\n",
       "    </tr>\n",
       "    <tr>\n",
       "      <th>1</th>\n",
       "      <td>twitter</td>\n",
       "      <td>1052.34</td>\n",
       "    </tr>\n",
       "    <tr>\n",
       "      <th>2</th>\n",
       "      <td>instagram</td>\n",
       "      <td>2002.00</td>\n",
       "    </tr>\n",
       "    <tr>\n",
       "      <th>3</th>\n",
       "      <td>linkedin</td>\n",
       "      <td>5000.00</td>\n",
       "    </tr>\n",
       "    <tr>\n",
       "      <th>4</th>\n",
       "      <td>facebook</td>\n",
       "      <td>300.00</td>\n",
       "    </tr>\n",
       "  </tbody>\n",
       "</table>\n",
       "</div>"
      ],
      "text/plain": [
       "  canal_venda   vendas\n",
       "0    facebook  1000.52\n",
       "1     twitter  1052.34\n",
       "2   instagram  2002.00\n",
       "3    linkedin  5000.00\n",
       "4    facebook   300.00"
      ]
     },
     "execution_count": 60,
     "metadata": {},
     "output_type": "execute_result"
    }
   ],
   "source": [
    "#Selecionando colunas especificas\n",
    "dataframe[['canal_venda', 'vendas']]"
   ]
  },
  {
   "cell_type": "code",
   "execution_count": 61,
   "metadata": {},
   "outputs": [],
   "source": [
    "#Passando os valores atraves de lista\n",
    "filtro = ['canal_venda', 'acessos']"
   ]
  },
  {
   "cell_type": "code",
   "execution_count": 62,
   "metadata": {},
   "outputs": [
    {
     "data": {
      "text/html": [
       "<div>\n",
       "<style scoped>\n",
       "    .dataframe tbody tr th:only-of-type {\n",
       "        vertical-align: middle;\n",
       "    }\n",
       "\n",
       "    .dataframe tbody tr th {\n",
       "        vertical-align: top;\n",
       "    }\n",
       "\n",
       "    .dataframe thead th {\n",
       "        text-align: right;\n",
       "    }\n",
       "</style>\n",
       "<table border=\"1\" class=\"dataframe\">\n",
       "  <thead>\n",
       "    <tr style=\"text-align: right;\">\n",
       "      <th></th>\n",
       "      <th>canal_venda</th>\n",
       "      <th>acessos</th>\n",
       "    </tr>\n",
       "  </thead>\n",
       "  <tbody>\n",
       "    <tr>\n",
       "      <th>0</th>\n",
       "      <td>facebook</td>\n",
       "      <td>100</td>\n",
       "    </tr>\n",
       "    <tr>\n",
       "      <th>1</th>\n",
       "      <td>twitter</td>\n",
       "      <td>200</td>\n",
       "    </tr>\n",
       "    <tr>\n",
       "      <th>2</th>\n",
       "      <td>instagram</td>\n",
       "      <td>300</td>\n",
       "    </tr>\n",
       "    <tr>\n",
       "      <th>3</th>\n",
       "      <td>linkedin</td>\n",
       "      <td>400</td>\n",
       "    </tr>\n",
       "    <tr>\n",
       "      <th>4</th>\n",
       "      <td>facebook</td>\n",
       "      <td>500</td>\n",
       "    </tr>\n",
       "  </tbody>\n",
       "</table>\n",
       "</div>"
      ],
      "text/plain": [
       "  canal_venda  acessos\n",
       "0    facebook      100\n",
       "1     twitter      200\n",
       "2   instagram      300\n",
       "3    linkedin      400\n",
       "4    facebook      500"
      ]
     },
     "execution_count": 62,
     "metadata": {},
     "output_type": "execute_result"
    }
   ],
   "source": [
    "dataframe[filtro]"
   ]
  },
  {
   "cell_type": "code",
   "execution_count": 63,
   "metadata": {},
   "outputs": [
    {
     "name": "stdout",
     "output_type": "stream",
     "text": [
      "<class 'pandas.core.frame.DataFrame'>\n",
      "RangeIndex: 5 entries, 0 to 4\n",
      "Data columns (total 6 columns):\n",
      " #   Column       Non-Null Count  Dtype  \n",
      "---  ------       --------------  -----  \n",
      " 0   canal_venda  5 non-null      object \n",
      " 1   acessos      5 non-null      int64  \n",
      " 2   site         5 non-null      object \n",
      " 3   vendas       5 non-null      float64\n",
      " 4   lista        5 non-null      int64  \n",
      " 5   nova_coluna  5 non-null      int64  \n",
      "dtypes: float64(1), int64(3), object(2)\n",
      "memory usage: 368.0+ bytes\n"
     ]
    }
   ],
   "source": [
    "# Usando o metodo info()\n",
    "dataframe.info()"
   ]
  },
  {
   "cell_type": "code",
   "execution_count": 64,
   "metadata": {},
   "outputs": [
    {
     "data": {
      "text/html": [
       "<div>\n",
       "<style scoped>\n",
       "    .dataframe tbody tr th:only-of-type {\n",
       "        vertical-align: middle;\n",
       "    }\n",
       "\n",
       "    .dataframe tbody tr th {\n",
       "        vertical-align: top;\n",
       "    }\n",
       "\n",
       "    .dataframe thead th {\n",
       "        text-align: right;\n",
       "    }\n",
       "</style>\n",
       "<table border=\"1\" class=\"dataframe\">\n",
       "  <thead>\n",
       "    <tr style=\"text-align: right;\">\n",
       "      <th></th>\n",
       "      <th>canal_venda</th>\n",
       "      <th>acessos</th>\n",
       "      <th>site</th>\n",
       "      <th>vendas</th>\n",
       "      <th>lista</th>\n",
       "      <th>nova_coluna</th>\n",
       "    </tr>\n",
       "  </thead>\n",
       "  <tbody>\n",
       "    <tr>\n",
       "      <th>0</th>\n",
       "      <td>facebook</td>\n",
       "      <td>100</td>\n",
       "      <td>site1</td>\n",
       "      <td>1000.52</td>\n",
       "      <td>200</td>\n",
       "      <td>1</td>\n",
       "    </tr>\n",
       "    <tr>\n",
       "      <th>1</th>\n",
       "      <td>twitter</td>\n",
       "      <td>200</td>\n",
       "      <td>site1</td>\n",
       "      <td>1052.34</td>\n",
       "      <td>200</td>\n",
       "      <td>2</td>\n",
       "    </tr>\n",
       "    <tr>\n",
       "      <th>2</th>\n",
       "      <td>instagram</td>\n",
       "      <td>300</td>\n",
       "      <td>site2</td>\n",
       "      <td>2002.00</td>\n",
       "      <td>300</td>\n",
       "      <td>3</td>\n",
       "    </tr>\n",
       "    <tr>\n",
       "      <th>3</th>\n",
       "      <td>linkedin</td>\n",
       "      <td>400</td>\n",
       "      <td>site2</td>\n",
       "      <td>5000.00</td>\n",
       "      <td>800</td>\n",
       "      <td>4</td>\n",
       "    </tr>\n",
       "    <tr>\n",
       "      <th>4</th>\n",
       "      <td>facebook</td>\n",
       "      <td>500</td>\n",
       "      <td>site3</td>\n",
       "      <td>300.00</td>\n",
       "      <td>200</td>\n",
       "      <td>5</td>\n",
       "    </tr>\n",
       "  </tbody>\n",
       "</table>\n",
       "</div>"
      ],
      "text/plain": [
       "  canal_venda  acessos   site   vendas  lista  nova_coluna\n",
       "0    facebook      100  site1  1000.52    200            1\n",
       "1     twitter      200  site1  1052.34    200            2\n",
       "2   instagram      300  site2  2002.00    300            3\n",
       "3    linkedin      400  site2  5000.00    800            4\n",
       "4    facebook      500  site3   300.00    200            5"
      ]
     },
     "execution_count": 64,
     "metadata": {},
     "output_type": "execute_result"
    }
   ],
   "source": [
    "dataframe"
   ]
  },
  {
   "cell_type": "code",
   "execution_count": 65,
   "metadata": {},
   "outputs": [],
   "source": [
    "#Pivotando os dados (coluna)\n",
    "aux = dataframe.pivot(index = 'canal_venda', columns='site', values='acessos')"
   ]
  },
  {
   "cell_type": "code",
   "execution_count": 66,
   "metadata": {},
   "outputs": [
    {
     "name": "stdout",
     "output_type": "stream",
     "text": [
      "<class 'pandas.core.frame.DataFrame'>\n",
      "Index: 4 entries, facebook to twitter\n",
      "Data columns (total 3 columns):\n",
      " #   Column  Non-Null Count  Dtype  \n",
      "---  ------  --------------  -----  \n",
      " 0   site1   2 non-null      float64\n",
      " 1   site2   2 non-null      float64\n",
      " 2   site3   1 non-null      float64\n",
      "dtypes: float64(3)\n",
      "memory usage: 128.0+ bytes\n"
     ]
    }
   ],
   "source": [
    "aux.info()"
   ]
  },
  {
   "cell_type": "code",
   "execution_count": 67,
   "metadata": {},
   "outputs": [
    {
     "data": {
      "text/html": [
       "<div>\n",
       "<style scoped>\n",
       "    .dataframe tbody tr th:only-of-type {\n",
       "        vertical-align: middle;\n",
       "    }\n",
       "\n",
       "    .dataframe tbody tr th {\n",
       "        vertical-align: top;\n",
       "    }\n",
       "\n",
       "    .dataframe thead th {\n",
       "        text-align: right;\n",
       "    }\n",
       "</style>\n",
       "<table border=\"1\" class=\"dataframe\">\n",
       "  <thead>\n",
       "    <tr style=\"text-align: right;\">\n",
       "      <th>site</th>\n",
       "      <th>site1</th>\n",
       "      <th>site2</th>\n",
       "      <th>site3</th>\n",
       "    </tr>\n",
       "    <tr>\n",
       "      <th>canal_venda</th>\n",
       "      <th></th>\n",
       "      <th></th>\n",
       "      <th></th>\n",
       "    </tr>\n",
       "  </thead>\n",
       "  <tbody>\n",
       "    <tr>\n",
       "      <th>facebook</th>\n",
       "      <td>100.0</td>\n",
       "      <td>0.0</td>\n",
       "      <td>500.0</td>\n",
       "    </tr>\n",
       "    <tr>\n",
       "      <th>instagram</th>\n",
       "      <td>0.0</td>\n",
       "      <td>300.0</td>\n",
       "      <td>0.0</td>\n",
       "    </tr>\n",
       "    <tr>\n",
       "      <th>linkedin</th>\n",
       "      <td>0.0</td>\n",
       "      <td>400.0</td>\n",
       "      <td>0.0</td>\n",
       "    </tr>\n",
       "    <tr>\n",
       "      <th>twitter</th>\n",
       "      <td>200.0</td>\n",
       "      <td>0.0</td>\n",
       "      <td>0.0</td>\n",
       "    </tr>\n",
       "  </tbody>\n",
       "</table>\n",
       "</div>"
      ],
      "text/plain": [
       "site         site1  site2  site3\n",
       "canal_venda                     \n",
       "facebook     100.0    0.0  500.0\n",
       "instagram      0.0  300.0    0.0\n",
       "linkedin       0.0  400.0    0.0\n",
       "twitter      200.0    0.0    0.0"
      ]
     },
     "execution_count": 67,
     "metadata": {},
     "output_type": "execute_result"
    }
   ],
   "source": [
    "#Completando os valores faltantes usando fillna\n",
    "#Pivotando os dados (coluna)\n",
    "aux= dataframe.pivot(index = 'canal_venda', columns='site', values='acessos').fillna(0)\n",
    "dataframe.pivot(index = 'canal_venda', columns='site', values='acessos').fillna(0)"
   ]
  },
  {
   "cell_type": "code",
   "execution_count": 68,
   "metadata": {},
   "outputs": [
    {
     "data": {
      "text/html": [
       "<div>\n",
       "<style scoped>\n",
       "    .dataframe tbody tr th:only-of-type {\n",
       "        vertical-align: middle;\n",
       "    }\n",
       "\n",
       "    .dataframe tbody tr th {\n",
       "        vertical-align: top;\n",
       "    }\n",
       "\n",
       "    .dataframe thead th {\n",
       "        text-align: right;\n",
       "    }\n",
       "</style>\n",
       "<table border=\"1\" class=\"dataframe\">\n",
       "  <thead>\n",
       "    <tr style=\"text-align: right;\">\n",
       "      <th></th>\n",
       "      <th>canal_venda</th>\n",
       "      <th>acessos</th>\n",
       "      <th>site</th>\n",
       "      <th>vendas</th>\n",
       "      <th>lista</th>\n",
       "      <th>nova_coluna</th>\n",
       "    </tr>\n",
       "  </thead>\n",
       "  <tbody>\n",
       "    <tr>\n",
       "      <th>0</th>\n",
       "      <td>facebook</td>\n",
       "      <td>100</td>\n",
       "      <td>site1</td>\n",
       "      <td>1000.52</td>\n",
       "      <td>200</td>\n",
       "      <td>1</td>\n",
       "    </tr>\n",
       "    <tr>\n",
       "      <th>1</th>\n",
       "      <td>twitter</td>\n",
       "      <td>200</td>\n",
       "      <td>site1</td>\n",
       "      <td>1052.34</td>\n",
       "      <td>200</td>\n",
       "      <td>2</td>\n",
       "    </tr>\n",
       "    <tr>\n",
       "      <th>2</th>\n",
       "      <td>instagram</td>\n",
       "      <td>300</td>\n",
       "      <td>site2</td>\n",
       "      <td>2002.00</td>\n",
       "      <td>300</td>\n",
       "      <td>3</td>\n",
       "    </tr>\n",
       "    <tr>\n",
       "      <th>3</th>\n",
       "      <td>linkedin</td>\n",
       "      <td>400</td>\n",
       "      <td>site2</td>\n",
       "      <td>5000.00</td>\n",
       "      <td>800</td>\n",
       "      <td>4</td>\n",
       "    </tr>\n",
       "    <tr>\n",
       "      <th>4</th>\n",
       "      <td>facebook</td>\n",
       "      <td>500</td>\n",
       "      <td>site3</td>\n",
       "      <td>300.00</td>\n",
       "      <td>200</td>\n",
       "      <td>5</td>\n",
       "    </tr>\n",
       "  </tbody>\n",
       "</table>\n",
       "</div>"
      ],
      "text/plain": [
       "  canal_venda  acessos   site   vendas  lista  nova_coluna\n",
       "0    facebook      100  site1  1000.52    200            1\n",
       "1     twitter      200  site1  1052.34    200            2\n",
       "2   instagram      300  site2  2002.00    300            3\n",
       "3    linkedin      400  site2  5000.00    800            4\n",
       "4    facebook      500  site3   300.00    200            5"
      ]
     },
     "execution_count": 68,
     "metadata": {},
     "output_type": "execute_result"
    }
   ],
   "source": [
    "dataframe"
   ]
  },
  {
   "cell_type": "code",
   "execution_count": 69,
   "metadata": {},
   "outputs": [
    {
     "data": {
      "text/html": [
       "<div>\n",
       "<style scoped>\n",
       "    .dataframe tbody tr th:only-of-type {\n",
       "        vertical-align: middle;\n",
       "    }\n",
       "\n",
       "    .dataframe tbody tr th {\n",
       "        vertical-align: top;\n",
       "    }\n",
       "\n",
       "    .dataframe thead th {\n",
       "        text-align: right;\n",
       "    }\n",
       "</style>\n",
       "<table border=\"1\" class=\"dataframe\">\n",
       "  <thead>\n",
       "    <tr style=\"text-align: right;\">\n",
       "      <th></th>\n",
       "      <th>site</th>\n",
       "      <th>variable</th>\n",
       "      <th>value</th>\n",
       "    </tr>\n",
       "  </thead>\n",
       "  <tbody>\n",
       "    <tr>\n",
       "      <th>0</th>\n",
       "      <td>site1</td>\n",
       "      <td>canal_venda</td>\n",
       "      <td>facebook</td>\n",
       "    </tr>\n",
       "    <tr>\n",
       "      <th>1</th>\n",
       "      <td>site1</td>\n",
       "      <td>canal_venda</td>\n",
       "      <td>twitter</td>\n",
       "    </tr>\n",
       "    <tr>\n",
       "      <th>2</th>\n",
       "      <td>site2</td>\n",
       "      <td>canal_venda</td>\n",
       "      <td>instagram</td>\n",
       "    </tr>\n",
       "    <tr>\n",
       "      <th>3</th>\n",
       "      <td>site2</td>\n",
       "      <td>canal_venda</td>\n",
       "      <td>linkedin</td>\n",
       "    </tr>\n",
       "    <tr>\n",
       "      <th>4</th>\n",
       "      <td>site3</td>\n",
       "      <td>canal_venda</td>\n",
       "      <td>facebook</td>\n",
       "    </tr>\n",
       "  </tbody>\n",
       "</table>\n",
       "</div>"
      ],
      "text/plain": [
       "    site     variable      value\n",
       "0  site1  canal_venda   facebook\n",
       "1  site1  canal_venda    twitter\n",
       "2  site2  canal_venda  instagram\n",
       "3  site2  canal_venda   linkedin\n",
       "4  site3  canal_venda   facebook"
      ]
     },
     "execution_count": 69,
     "metadata": {},
     "output_type": "execute_result"
    }
   ],
   "source": [
    "# Mudando as colunas usando o comando melt\n",
    "dataframe.melt(id_vars='site', value_vars=['canal_venda'])"
   ]
  },
  {
   "cell_type": "code",
   "execution_count": 70,
   "metadata": {},
   "outputs": [
    {
     "name": "stdout",
     "output_type": "stream",
     "text": [
      "Index(['site1', 'site2', 'site3'], dtype='object', name='site')\n",
      "Index(['canal_venda', 'site1', 'site2', 'site3'], dtype='object', name='site')\n"
     ]
    }
   ],
   "source": [
    "#Resetando o indice do dataframe\n",
    "print(aux.columns)\n",
    "aux = aux.reset_index()\n",
    "print(aux.columns)"
   ]
  },
  {
   "cell_type": "code",
   "execution_count": 73,
   "metadata": {},
   "outputs": [
    {
     "data": {
      "text/html": [
       "<div>\n",
       "<style scoped>\n",
       "    .dataframe tbody tr th:only-of-type {\n",
       "        vertical-align: middle;\n",
       "    }\n",
       "\n",
       "    .dataframe tbody tr th {\n",
       "        vertical-align: top;\n",
       "    }\n",
       "\n",
       "    .dataframe thead th {\n",
       "        text-align: right;\n",
       "    }\n",
       "</style>\n",
       "<table border=\"1\" class=\"dataframe\">\n",
       "  <thead>\n",
       "    <tr style=\"text-align: right;\">\n",
       "      <th></th>\n",
       "      <th>canal_venda</th>\n",
       "      <th>acessos</th>\n",
       "      <th>site</th>\n",
       "      <th>vendas</th>\n",
       "      <th>lista</th>\n",
       "      <th>nova_coluna</th>\n",
       "    </tr>\n",
       "  </thead>\n",
       "  <tbody>\n",
       "    <tr>\n",
       "      <th>0</th>\n",
       "      <td>facebook</td>\n",
       "      <td>100</td>\n",
       "      <td>site1</td>\n",
       "      <td>1000.52</td>\n",
       "      <td>200</td>\n",
       "      <td>1</td>\n",
       "    </tr>\n",
       "    <tr>\n",
       "      <th>1</th>\n",
       "      <td>twitter</td>\n",
       "      <td>200</td>\n",
       "      <td>site1</td>\n",
       "      <td>1052.34</td>\n",
       "      <td>200</td>\n",
       "      <td>2</td>\n",
       "    </tr>\n",
       "    <tr>\n",
       "      <th>2</th>\n",
       "      <td>instagram</td>\n",
       "      <td>300</td>\n",
       "      <td>site2</td>\n",
       "      <td>2002.00</td>\n",
       "      <td>300</td>\n",
       "      <td>3</td>\n",
       "    </tr>\n",
       "    <tr>\n",
       "      <th>3</th>\n",
       "      <td>linkedin</td>\n",
       "      <td>400</td>\n",
       "      <td>site2</td>\n",
       "      <td>5000.00</td>\n",
       "      <td>800</td>\n",
       "      <td>4</td>\n",
       "    </tr>\n",
       "    <tr>\n",
       "      <th>4</th>\n",
       "      <td>facebook</td>\n",
       "      <td>500</td>\n",
       "      <td>site3</td>\n",
       "      <td>300.00</td>\n",
       "      <td>200</td>\n",
       "      <td>5</td>\n",
       "    </tr>\n",
       "  </tbody>\n",
       "</table>\n",
       "</div>"
      ],
      "text/plain": [
       "  canal_venda  acessos   site   vendas  lista  nova_coluna\n",
       "0    facebook      100  site1  1000.52    200            1\n",
       "1     twitter      200  site1  1052.34    200            2\n",
       "2   instagram      300  site2  2002.00    300            3\n",
       "3    linkedin      400  site2  5000.00    800            4\n",
       "4    facebook      500  site3   300.00    200            5"
      ]
     },
     "execution_count": 73,
     "metadata": {},
     "output_type": "execute_result"
    }
   ],
   "source": [
    "dataframe"
   ]
  },
  {
   "cell_type": "code",
   "execution_count": 74,
   "metadata": {},
   "outputs": [
    {
     "data": {
      "text/html": [
       "<div>\n",
       "<style scoped>\n",
       "    .dataframe tbody tr th:only-of-type {\n",
       "        vertical-align: middle;\n",
       "    }\n",
       "\n",
       "    .dataframe tbody tr th {\n",
       "        vertical-align: top;\n",
       "    }\n",
       "\n",
       "    .dataframe thead th {\n",
       "        text-align: right;\n",
       "    }\n",
       "</style>\n",
       "<table border=\"1\" class=\"dataframe\">\n",
       "  <thead>\n",
       "    <tr style=\"text-align: right;\">\n",
       "      <th>site</th>\n",
       "      <th>index</th>\n",
       "      <th>canal_venda</th>\n",
       "      <th>site1</th>\n",
       "      <th>site2</th>\n",
       "      <th>site3</th>\n",
       "    </tr>\n",
       "  </thead>\n",
       "  <tbody>\n",
       "    <tr>\n",
       "      <th>0</th>\n",
       "      <td>0</td>\n",
       "      <td>facebook</td>\n",
       "      <td>100.0</td>\n",
       "      <td>0.0</td>\n",
       "      <td>500.0</td>\n",
       "    </tr>\n",
       "    <tr>\n",
       "      <th>1</th>\n",
       "      <td>1</td>\n",
       "      <td>instagram</td>\n",
       "      <td>0.0</td>\n",
       "      <td>300.0</td>\n",
       "      <td>0.0</td>\n",
       "    </tr>\n",
       "    <tr>\n",
       "      <th>2</th>\n",
       "      <td>2</td>\n",
       "      <td>linkedin</td>\n",
       "      <td>0.0</td>\n",
       "      <td>400.0</td>\n",
       "      <td>0.0</td>\n",
       "    </tr>\n",
       "    <tr>\n",
       "      <th>3</th>\n",
       "      <td>3</td>\n",
       "      <td>twitter</td>\n",
       "      <td>200.0</td>\n",
       "      <td>0.0</td>\n",
       "      <td>0.0</td>\n",
       "    </tr>\n",
       "  </tbody>\n",
       "</table>\n",
       "</div>"
      ],
      "text/plain": [
       "site  index canal_venda  site1  site2  site3\n",
       "0         0    facebook  100.0    0.0  500.0\n",
       "1         1   instagram    0.0  300.0    0.0\n",
       "2         2    linkedin    0.0  400.0    0.0\n",
       "3         3     twitter  200.0    0.0    0.0"
      ]
     },
     "execution_count": 74,
     "metadata": {},
     "output_type": "execute_result"
    }
   ],
   "source": [
    "aux.reset_index()"
   ]
  },
  {
   "cell_type": "code",
   "execution_count": 75,
   "metadata": {},
   "outputs": [
    {
     "data": {
      "text/html": [
       "<div>\n",
       "<style scoped>\n",
       "    .dataframe tbody tr th:only-of-type {\n",
       "        vertical-align: middle;\n",
       "    }\n",
       "\n",
       "    .dataframe tbody tr th {\n",
       "        vertical-align: top;\n",
       "    }\n",
       "\n",
       "    .dataframe thead th {\n",
       "        text-align: right;\n",
       "    }\n",
       "</style>\n",
       "<table border=\"1\" class=\"dataframe\">\n",
       "  <thead>\n",
       "    <tr style=\"text-align: right;\">\n",
       "      <th>site</th>\n",
       "      <th>canal_venda</th>\n",
       "    </tr>\n",
       "  </thead>\n",
       "  <tbody>\n",
       "    <tr>\n",
       "      <th>0</th>\n",
       "      <td>facebook</td>\n",
       "    </tr>\n",
       "    <tr>\n",
       "      <th>1</th>\n",
       "      <td>instagram</td>\n",
       "    </tr>\n",
       "    <tr>\n",
       "      <th>2</th>\n",
       "      <td>linkedin</td>\n",
       "    </tr>\n",
       "    <tr>\n",
       "      <th>3</th>\n",
       "      <td>twitter</td>\n",
       "    </tr>\n",
       "  </tbody>\n",
       "</table>\n",
       "</div>"
      ],
      "text/plain": [
       "site canal_venda\n",
       "0       facebook\n",
       "1      instagram\n",
       "2       linkedin\n",
       "3        twitter"
      ]
     },
     "execution_count": 75,
     "metadata": {},
     "output_type": "execute_result"
    }
   ],
   "source": [
    "aux[['canal_venda']]"
   ]
  },
  {
   "cell_type": "code",
   "execution_count": 76,
   "metadata": {},
   "outputs": [
    {
     "data": {
      "text/html": [
       "<div>\n",
       "<style scoped>\n",
       "    .dataframe tbody tr th:only-of-type {\n",
       "        vertical-align: middle;\n",
       "    }\n",
       "\n",
       "    .dataframe tbody tr th {\n",
       "        vertical-align: top;\n",
       "    }\n",
       "\n",
       "    .dataframe thead th {\n",
       "        text-align: right;\n",
       "    }\n",
       "</style>\n",
       "<table border=\"1\" class=\"dataframe\">\n",
       "  <thead>\n",
       "    <tr style=\"text-align: right;\">\n",
       "      <th>site</th>\n",
       "      <th>canal_venda</th>\n",
       "      <th>site1</th>\n",
       "      <th>site2</th>\n",
       "      <th>site3</th>\n",
       "    </tr>\n",
       "  </thead>\n",
       "  <tbody>\n",
       "    <tr>\n",
       "      <th>0</th>\n",
       "      <td>facebook</td>\n",
       "      <td>100.0</td>\n",
       "      <td>0.0</td>\n",
       "      <td>500.0</td>\n",
       "    </tr>\n",
       "    <tr>\n",
       "      <th>1</th>\n",
       "      <td>instagram</td>\n",
       "      <td>0.0</td>\n",
       "      <td>300.0</td>\n",
       "      <td>0.0</td>\n",
       "    </tr>\n",
       "    <tr>\n",
       "      <th>2</th>\n",
       "      <td>linkedin</td>\n",
       "      <td>0.0</td>\n",
       "      <td>400.0</td>\n",
       "      <td>0.0</td>\n",
       "    </tr>\n",
       "    <tr>\n",
       "      <th>3</th>\n",
       "      <td>twitter</td>\n",
       "      <td>200.0</td>\n",
       "      <td>0.0</td>\n",
       "      <td>0.0</td>\n",
       "    </tr>\n",
       "  </tbody>\n",
       "</table>\n",
       "</div>"
      ],
      "text/plain": [
       "site canal_venda  site1  site2  site3\n",
       "0       facebook  100.0    0.0  500.0\n",
       "1      instagram    0.0  300.0    0.0\n",
       "2       linkedin    0.0  400.0    0.0\n",
       "3        twitter  200.0    0.0    0.0"
      ]
     },
     "execution_count": 76,
     "metadata": {},
     "output_type": "execute_result"
    }
   ],
   "source": [
    "aux"
   ]
  },
  {
   "cell_type": "code",
   "execution_count": 77,
   "metadata": {},
   "outputs": [
    {
     "data": {
      "text/html": [
       "<div>\n",
       "<style scoped>\n",
       "    .dataframe tbody tr th:only-of-type {\n",
       "        vertical-align: middle;\n",
       "    }\n",
       "\n",
       "    .dataframe tbody tr th {\n",
       "        vertical-align: top;\n",
       "    }\n",
       "\n",
       "    .dataframe thead th {\n",
       "        text-align: right;\n",
       "    }\n",
       "</style>\n",
       "<table border=\"1\" class=\"dataframe\">\n",
       "  <thead>\n",
       "    <tr style=\"text-align: right;\">\n",
       "      <th></th>\n",
       "      <th>canal_venda</th>\n",
       "      <th>site</th>\n",
       "      <th>value</th>\n",
       "    </tr>\n",
       "  </thead>\n",
       "  <tbody>\n",
       "    <tr>\n",
       "      <th>0</th>\n",
       "      <td>facebook</td>\n",
       "      <td>site1</td>\n",
       "      <td>100.0</td>\n",
       "    </tr>\n",
       "    <tr>\n",
       "      <th>1</th>\n",
       "      <td>instagram</td>\n",
       "      <td>site1</td>\n",
       "      <td>0.0</td>\n",
       "    </tr>\n",
       "    <tr>\n",
       "      <th>2</th>\n",
       "      <td>linkedin</td>\n",
       "      <td>site1</td>\n",
       "      <td>0.0</td>\n",
       "    </tr>\n",
       "    <tr>\n",
       "      <th>3</th>\n",
       "      <td>twitter</td>\n",
       "      <td>site1</td>\n",
       "      <td>200.0</td>\n",
       "    </tr>\n",
       "    <tr>\n",
       "      <th>4</th>\n",
       "      <td>facebook</td>\n",
       "      <td>site2</td>\n",
       "      <td>0.0</td>\n",
       "    </tr>\n",
       "    <tr>\n",
       "      <th>5</th>\n",
       "      <td>instagram</td>\n",
       "      <td>site2</td>\n",
       "      <td>300.0</td>\n",
       "    </tr>\n",
       "    <tr>\n",
       "      <th>6</th>\n",
       "      <td>linkedin</td>\n",
       "      <td>site2</td>\n",
       "      <td>400.0</td>\n",
       "    </tr>\n",
       "    <tr>\n",
       "      <th>7</th>\n",
       "      <td>twitter</td>\n",
       "      <td>site2</td>\n",
       "      <td>0.0</td>\n",
       "    </tr>\n",
       "    <tr>\n",
       "      <th>8</th>\n",
       "      <td>facebook</td>\n",
       "      <td>site3</td>\n",
       "      <td>500.0</td>\n",
       "    </tr>\n",
       "    <tr>\n",
       "      <th>9</th>\n",
       "      <td>instagram</td>\n",
       "      <td>site3</td>\n",
       "      <td>0.0</td>\n",
       "    </tr>\n",
       "    <tr>\n",
       "      <th>10</th>\n",
       "      <td>linkedin</td>\n",
       "      <td>site3</td>\n",
       "      <td>0.0</td>\n",
       "    </tr>\n",
       "    <tr>\n",
       "      <th>11</th>\n",
       "      <td>twitter</td>\n",
       "      <td>site3</td>\n",
       "      <td>0.0</td>\n",
       "    </tr>\n",
       "  </tbody>\n",
       "</table>\n",
       "</div>"
      ],
      "text/plain": [
       "   canal_venda   site  value\n",
       "0     facebook  site1  100.0\n",
       "1    instagram  site1    0.0\n",
       "2     linkedin  site1    0.0\n",
       "3      twitter  site1  200.0\n",
       "4     facebook  site2    0.0\n",
       "5    instagram  site2  300.0\n",
       "6     linkedin  site2  400.0\n",
       "7      twitter  site2    0.0\n",
       "8     facebook  site3  500.0\n",
       "9    instagram  site3    0.0\n",
       "10    linkedin  site3    0.0\n",
       "11     twitter  site3    0.0"
      ]
     },
     "execution_count": 77,
     "metadata": {},
     "output_type": "execute_result"
    }
   ],
   "source": [
    "#Exemplo do comando melt\n",
    "aux.melt(id_vars=['canal_venda'], value_vars=['site1', 'site2', 'site3'])"
   ]
  },
  {
   "cell_type": "code",
   "execution_count": 78,
   "metadata": {},
   "outputs": [
    {
     "data": {
      "text/html": [
       "<div>\n",
       "<style scoped>\n",
       "    .dataframe tbody tr th:only-of-type {\n",
       "        vertical-align: middle;\n",
       "    }\n",
       "\n",
       "    .dataframe tbody tr th {\n",
       "        vertical-align: top;\n",
       "    }\n",
       "\n",
       "    .dataframe thead th {\n",
       "        text-align: right;\n",
       "    }\n",
       "</style>\n",
       "<table border=\"1\" class=\"dataframe\">\n",
       "  <thead>\n",
       "    <tr style=\"text-align: right;\">\n",
       "      <th></th>\n",
       "      <th>canal_venda</th>\n",
       "      <th>acessos</th>\n",
       "      <th>site</th>\n",
       "      <th>vendas</th>\n",
       "      <th>lista</th>\n",
       "      <th>nova_coluna</th>\n",
       "    </tr>\n",
       "  </thead>\n",
       "  <tbody>\n",
       "    <tr>\n",
       "      <th>0</th>\n",
       "      <td>facebook</td>\n",
       "      <td>100</td>\n",
       "      <td>site1</td>\n",
       "      <td>1000.52</td>\n",
       "      <td>200</td>\n",
       "      <td>1</td>\n",
       "    </tr>\n",
       "    <tr>\n",
       "      <th>1</th>\n",
       "      <td>twitter</td>\n",
       "      <td>200</td>\n",
       "      <td>site1</td>\n",
       "      <td>1052.34</td>\n",
       "      <td>200</td>\n",
       "      <td>2</td>\n",
       "    </tr>\n",
       "    <tr>\n",
       "      <th>2</th>\n",
       "      <td>instagram</td>\n",
       "      <td>300</td>\n",
       "      <td>site2</td>\n",
       "      <td>2002.00</td>\n",
       "      <td>300</td>\n",
       "      <td>3</td>\n",
       "    </tr>\n",
       "    <tr>\n",
       "      <th>3</th>\n",
       "      <td>linkedin</td>\n",
       "      <td>400</td>\n",
       "      <td>site2</td>\n",
       "      <td>5000.00</td>\n",
       "      <td>800</td>\n",
       "      <td>4</td>\n",
       "    </tr>\n",
       "    <tr>\n",
       "      <th>4</th>\n",
       "      <td>facebook</td>\n",
       "      <td>500</td>\n",
       "      <td>site3</td>\n",
       "      <td>300.00</td>\n",
       "      <td>200</td>\n",
       "      <td>5</td>\n",
       "    </tr>\n",
       "  </tbody>\n",
       "</table>\n",
       "</div>"
      ],
      "text/plain": [
       "  canal_venda  acessos   site   vendas  lista  nova_coluna\n",
       "0    facebook      100  site1  1000.52    200            1\n",
       "1     twitter      200  site1  1052.34    200            2\n",
       "2   instagram      300  site2  2002.00    300            3\n",
       "3    linkedin      400  site2  5000.00    800            4\n",
       "4    facebook      500  site3   300.00    200            5"
      ]
     },
     "execution_count": 78,
     "metadata": {},
     "output_type": "execute_result"
    }
   ],
   "source": [
    "dataframe"
   ]
  },
  {
   "cell_type": "code",
   "execution_count": 79,
   "metadata": {},
   "outputs": [
    {
     "data": {
      "text/plain": [
       "canal_venda    facebooktwitterinstagramlinkedinfacebook\n",
       "acessos                                            1500\n",
       "site                          site1site1site2site2site3\n",
       "vendas                                          9354.86\n",
       "lista                                              1700\n",
       "nova_coluna                                          15\n",
       "dtype: object"
      ]
     },
     "execution_count": 79,
     "metadata": {},
     "output_type": "execute_result"
    }
   ],
   "source": [
    "#Somando as colunas do dataframe\n",
    "dataframe.sum()"
   ]
  },
  {
   "cell_type": "code",
   "execution_count": 80,
   "metadata": {},
   "outputs": [
    {
     "data": {
      "text/html": [
       "<div>\n",
       "<style scoped>\n",
       "    .dataframe tbody tr th:only-of-type {\n",
       "        vertical-align: middle;\n",
       "    }\n",
       "\n",
       "    .dataframe tbody tr th {\n",
       "        vertical-align: top;\n",
       "    }\n",
       "\n",
       "    .dataframe thead th {\n",
       "        text-align: right;\n",
       "    }\n",
       "</style>\n",
       "<table border=\"1\" class=\"dataframe\">\n",
       "  <thead>\n",
       "    <tr style=\"text-align: right;\">\n",
       "      <th></th>\n",
       "      <th>canal_venda</th>\n",
       "      <th>acessos</th>\n",
       "      <th>site</th>\n",
       "      <th>vendas</th>\n",
       "      <th>lista</th>\n",
       "      <th>nova_coluna</th>\n",
       "    </tr>\n",
       "  </thead>\n",
       "  <tbody>\n",
       "    <tr>\n",
       "      <th>0</th>\n",
       "      <td>facebook</td>\n",
       "      <td>100</td>\n",
       "      <td>site1</td>\n",
       "      <td>1000.52</td>\n",
       "      <td>200</td>\n",
       "      <td>1</td>\n",
       "    </tr>\n",
       "    <tr>\n",
       "      <th>1</th>\n",
       "      <td>twitter</td>\n",
       "      <td>200</td>\n",
       "      <td>site1</td>\n",
       "      <td>1052.34</td>\n",
       "      <td>200</td>\n",
       "      <td>2</td>\n",
       "    </tr>\n",
       "    <tr>\n",
       "      <th>2</th>\n",
       "      <td>instagram</td>\n",
       "      <td>300</td>\n",
       "      <td>site2</td>\n",
       "      <td>2002.00</td>\n",
       "      <td>300</td>\n",
       "      <td>3</td>\n",
       "    </tr>\n",
       "    <tr>\n",
       "      <th>3</th>\n",
       "      <td>linkedin</td>\n",
       "      <td>400</td>\n",
       "      <td>site2</td>\n",
       "      <td>5000.00</td>\n",
       "      <td>800</td>\n",
       "      <td>4</td>\n",
       "    </tr>\n",
       "    <tr>\n",
       "      <th>4</th>\n",
       "      <td>facebook</td>\n",
       "      <td>500</td>\n",
       "      <td>site3</td>\n",
       "      <td>300.00</td>\n",
       "      <td>200</td>\n",
       "      <td>5</td>\n",
       "    </tr>\n",
       "  </tbody>\n",
       "</table>\n",
       "</div>"
      ],
      "text/plain": [
       "  canal_venda  acessos   site   vendas  lista  nova_coluna\n",
       "0    facebook      100  site1  1000.52    200            1\n",
       "1     twitter      200  site1  1052.34    200            2\n",
       "2   instagram      300  site2  2002.00    300            3\n",
       "3    linkedin      400  site2  5000.00    800            4\n",
       "4    facebook      500  site3   300.00    200            5"
      ]
     },
     "execution_count": 80,
     "metadata": {},
     "output_type": "execute_result"
    }
   ],
   "source": [
    "dataframe"
   ]
  },
  {
   "cell_type": "code",
   "execution_count": 84,
   "metadata": {},
   "outputs": [
    {
     "data": {
      "text/plain": [
       "0    1301.52\n",
       "1    1454.34\n",
       "2    2605.00\n",
       "3    6204.00\n",
       "4    1005.00\n",
       "dtype: float64"
      ]
     },
     "execution_count": 84,
     "metadata": {},
     "output_type": "execute_result"
    }
   ],
   "source": [
    "#Somando as linhas do dataframe\n",
    "dataframe.sum(axis = 1)"
   ]
  },
  {
   "cell_type": "code",
   "execution_count": 85,
   "metadata": {},
   "outputs": [
    {
     "name": "stdout",
     "output_type": "stream",
     "text": [
      "Por linha:  0    150.0\n",
      "1    200.0\n",
      "2    300.0\n",
      "3    600.0\n",
      "4    250.0\n",
      "dtype: float64\n",
      "Por coluna:  acessos         300.00\n",
      "vendas         1052.34\n",
      "lista           200.00\n",
      "nova_coluna       3.00\n",
      "dtype: float64\n"
     ]
    }
   ],
   "source": [
    "#Calculando a mediana das colunas numericas\n",
    "print('Por linha: ',dataframe.median(axis= 1) )\n",
    "print('Por coluna: ', dataframe.median())"
   ]
  },
  {
   "cell_type": "code",
   "execution_count": 86,
   "metadata": {},
   "outputs": [
    {
     "data": {
      "text/plain": [
       "acessos         300.000\n",
       "vendas         1870.972\n",
       "lista           340.000\n",
       "nova_coluna       3.000\n",
       "dtype: float64"
      ]
     },
     "execution_count": 86,
     "metadata": {},
     "output_type": "execute_result"
    }
   ],
   "source": [
    "#Calculando a media das colunas númericas\n",
    "dataframe.mean()"
   ]
  },
  {
   "cell_type": "code",
   "execution_count": 87,
   "metadata": {},
   "outputs": [
    {
     "data": {
      "text/plain": [
       "acessos         158.113883\n",
       "vendas         1850.931024\n",
       "lista           260.768096\n",
       "nova_coluna       1.581139\n",
       "dtype: float64"
      ]
     },
     "execution_count": 87,
     "metadata": {},
     "output_type": "execute_result"
    }
   ],
   "source": [
    "#Calculando o desvio padrão das colunas numericas\n",
    "dataframe.std()"
   ]
  },
  {
   "cell_type": "code",
   "execution_count": 88,
   "metadata": {},
   "outputs": [
    {
     "data": {
      "text/html": [
       "<div>\n",
       "<style scoped>\n",
       "    .dataframe tbody tr th:only-of-type {\n",
       "        vertical-align: middle;\n",
       "    }\n",
       "\n",
       "    .dataframe tbody tr th {\n",
       "        vertical-align: top;\n",
       "    }\n",
       "\n",
       "    .dataframe thead th {\n",
       "        text-align: right;\n",
       "    }\n",
       "</style>\n",
       "<table border=\"1\" class=\"dataframe\">\n",
       "  <thead>\n",
       "    <tr style=\"text-align: right;\">\n",
       "      <th></th>\n",
       "      <th>acessos</th>\n",
       "      <th>vendas</th>\n",
       "      <th>lista</th>\n",
       "      <th>nova_coluna</th>\n",
       "    </tr>\n",
       "  </thead>\n",
       "  <tbody>\n",
       "    <tr>\n",
       "      <th>count</th>\n",
       "      <td>5.000000</td>\n",
       "      <td>5.000000</td>\n",
       "      <td>5.000000</td>\n",
       "      <td>5.000000</td>\n",
       "    </tr>\n",
       "    <tr>\n",
       "      <th>mean</th>\n",
       "      <td>300.000000</td>\n",
       "      <td>1870.972000</td>\n",
       "      <td>340.000000</td>\n",
       "      <td>3.000000</td>\n",
       "    </tr>\n",
       "    <tr>\n",
       "      <th>std</th>\n",
       "      <td>158.113883</td>\n",
       "      <td>1850.931024</td>\n",
       "      <td>260.768096</td>\n",
       "      <td>1.581139</td>\n",
       "    </tr>\n",
       "    <tr>\n",
       "      <th>min</th>\n",
       "      <td>100.000000</td>\n",
       "      <td>300.000000</td>\n",
       "      <td>200.000000</td>\n",
       "      <td>1.000000</td>\n",
       "    </tr>\n",
       "    <tr>\n",
       "      <th>25%</th>\n",
       "      <td>200.000000</td>\n",
       "      <td>1000.520000</td>\n",
       "      <td>200.000000</td>\n",
       "      <td>2.000000</td>\n",
       "    </tr>\n",
       "    <tr>\n",
       "      <th>50%</th>\n",
       "      <td>300.000000</td>\n",
       "      <td>1052.340000</td>\n",
       "      <td>200.000000</td>\n",
       "      <td>3.000000</td>\n",
       "    </tr>\n",
       "    <tr>\n",
       "      <th>75%</th>\n",
       "      <td>400.000000</td>\n",
       "      <td>2002.000000</td>\n",
       "      <td>300.000000</td>\n",
       "      <td>4.000000</td>\n",
       "    </tr>\n",
       "    <tr>\n",
       "      <th>max</th>\n",
       "      <td>500.000000</td>\n",
       "      <td>5000.000000</td>\n",
       "      <td>800.000000</td>\n",
       "      <td>5.000000</td>\n",
       "    </tr>\n",
       "  </tbody>\n",
       "</table>\n",
       "</div>"
      ],
      "text/plain": [
       "          acessos       vendas       lista  nova_coluna\n",
       "count    5.000000     5.000000    5.000000     5.000000\n",
       "mean   300.000000  1870.972000  340.000000     3.000000\n",
       "std    158.113883  1850.931024  260.768096     1.581139\n",
       "min    100.000000   300.000000  200.000000     1.000000\n",
       "25%    200.000000  1000.520000  200.000000     2.000000\n",
       "50%    300.000000  1052.340000  200.000000     3.000000\n",
       "75%    400.000000  2002.000000  300.000000     4.000000\n",
       "max    500.000000  5000.000000  800.000000     5.000000"
      ]
     },
     "execution_count": 88,
     "metadata": {},
     "output_type": "execute_result"
    }
   ],
   "source": [
    "#Usando o comando describe que calcula estatisticas descritivas para colunas numericas\n",
    "dataframe.describe()"
   ]
  },
  {
   "cell_type": "code",
   "execution_count": 89,
   "metadata": {},
   "outputs": [
    {
     "data": {
      "text/html": [
       "<div>\n",
       "<style scoped>\n",
       "    .dataframe tbody tr th:only-of-type {\n",
       "        vertical-align: middle;\n",
       "    }\n",
       "\n",
       "    .dataframe tbody tr th {\n",
       "        vertical-align: top;\n",
       "    }\n",
       "\n",
       "    .dataframe thead th {\n",
       "        text-align: right;\n",
       "    }\n",
       "</style>\n",
       "<table border=\"1\" class=\"dataframe\">\n",
       "  <thead>\n",
       "    <tr style=\"text-align: right;\">\n",
       "      <th></th>\n",
       "      <th>canal_venda</th>\n",
       "      <th>acessos</th>\n",
       "      <th>site</th>\n",
       "      <th>vendas</th>\n",
       "      <th>lista</th>\n",
       "      <th>nova_coluna</th>\n",
       "    </tr>\n",
       "  </thead>\n",
       "  <tbody>\n",
       "    <tr>\n",
       "      <th>0</th>\n",
       "      <td>facebook</td>\n",
       "      <td>100</td>\n",
       "      <td>site1</td>\n",
       "      <td>300.00</td>\n",
       "      <td>200.0</td>\n",
       "      <td>1</td>\n",
       "    </tr>\n",
       "    <tr>\n",
       "      <th>1</th>\n",
       "      <td>NaN</td>\n",
       "      <td>200</td>\n",
       "      <td>site2</td>\n",
       "      <td>1000.52</td>\n",
       "      <td>NaN</td>\n",
       "      <td>2</td>\n",
       "    </tr>\n",
       "    <tr>\n",
       "      <th>2</th>\n",
       "      <td>NaN</td>\n",
       "      <td>300</td>\n",
       "      <td>NaN</td>\n",
       "      <td>1052.34</td>\n",
       "      <td>NaN</td>\n",
       "      <td>3</td>\n",
       "    </tr>\n",
       "    <tr>\n",
       "      <th>3</th>\n",
       "      <td>NaN</td>\n",
       "      <td>400</td>\n",
       "      <td>NaN</td>\n",
       "      <td>2002.00</td>\n",
       "      <td>NaN</td>\n",
       "      <td>4</td>\n",
       "    </tr>\n",
       "    <tr>\n",
       "      <th>4</th>\n",
       "      <td>NaN</td>\n",
       "      <td>500</td>\n",
       "      <td>NaN</td>\n",
       "      <td>5000.00</td>\n",
       "      <td>NaN</td>\n",
       "      <td>5</td>\n",
       "    </tr>\n",
       "  </tbody>\n",
       "</table>\n",
       "</div>"
      ],
      "text/plain": [
       "  canal_venda  acessos   site   vendas  lista  nova_coluna\n",
       "0    facebook      100  site1   300.00  200.0            1\n",
       "1         NaN      200  site2  1000.52    NaN            2\n",
       "2         NaN      300    NaN  1052.34    NaN            3\n",
       "3         NaN      400    NaN  2002.00    NaN            4\n",
       "4         NaN      500    NaN  5000.00    NaN            5"
      ]
     },
     "execution_count": 89,
     "metadata": {},
     "output_type": "execute_result"
    }
   ],
   "source": [
    "#Calculando a moda\n",
    "dataframe.mode()"
   ]
  },
  {
   "cell_type": "code",
   "execution_count": 90,
   "metadata": {},
   "outputs": [
    {
     "data": {
      "text/plain": [
       "canal_venda    twitter\n",
       "acessos            500\n",
       "site             site3\n",
       "vendas            5000\n",
       "lista              800\n",
       "nova_coluna          5\n",
       "dtype: object"
      ]
     },
     "execution_count": 90,
     "metadata": {},
     "output_type": "execute_result"
    }
   ],
   "source": [
    "# Valor maximo por coluna\n",
    "dataframe.max()"
   ]
  },
  {
   "cell_type": "code",
   "execution_count": 91,
   "metadata": {},
   "outputs": [
    {
     "data": {
      "text/plain": [
       "canal_venda    facebook\n",
       "acessos             100\n",
       "site              site1\n",
       "vendas              300\n",
       "lista               200\n",
       "nova_coluna           1\n",
       "dtype: object"
      ]
     },
     "execution_count": 91,
     "metadata": {},
     "output_type": "execute_result"
    }
   ],
   "source": [
    "#Valor minimo por coluna\n",
    "dataframe.min()"
   ]
  },
  {
   "cell_type": "code",
   "execution_count": 92,
   "metadata": {},
   "outputs": [
    {
     "data": {
      "text/plain": [
       "canal_venda    4\n",
       "acessos        5\n",
       "site           3\n",
       "vendas         5\n",
       "lista          3\n",
       "nova_coluna    5\n",
       "dtype: int64"
      ]
     },
     "execution_count": 92,
     "metadata": {},
     "output_type": "execute_result"
    }
   ],
   "source": [
    "#Printando o numero de unicos\n",
    "dataframe.nunique()"
   ]
  },
  {
   "cell_type": "code",
   "execution_count": 94,
   "metadata": {},
   "outputs": [
    {
     "data": {
      "text/html": [
       "<div>\n",
       "<style scoped>\n",
       "    .dataframe tbody tr th:only-of-type {\n",
       "        vertical-align: middle;\n",
       "    }\n",
       "\n",
       "    .dataframe tbody tr th {\n",
       "        vertical-align: top;\n",
       "    }\n",
       "\n",
       "    .dataframe thead th {\n",
       "        text-align: right;\n",
       "    }\n",
       "</style>\n",
       "<table border=\"1\" class=\"dataframe\">\n",
       "  <thead>\n",
       "    <tr style=\"text-align: right;\">\n",
       "      <th></th>\n",
       "      <th>canal_venda</th>\n",
       "      <th>acessos</th>\n",
       "      <th>site</th>\n",
       "      <th>vendas</th>\n",
       "      <th>lista</th>\n",
       "      <th>nova_coluna</th>\n",
       "    </tr>\n",
       "  </thead>\n",
       "  <tbody>\n",
       "    <tr>\n",
       "      <th>0</th>\n",
       "      <td>facebook</td>\n",
       "      <td>100</td>\n",
       "      <td>site1</td>\n",
       "      <td>1000.52</td>\n",
       "      <td>200</td>\n",
       "      <td>1</td>\n",
       "    </tr>\n",
       "    <tr>\n",
       "      <th>1</th>\n",
       "      <td>twitter</td>\n",
       "      <td>200</td>\n",
       "      <td>site1</td>\n",
       "      <td>1052.34</td>\n",
       "      <td>200</td>\n",
       "      <td>2</td>\n",
       "    </tr>\n",
       "    <tr>\n",
       "      <th>2</th>\n",
       "      <td>instagram</td>\n",
       "      <td>300</td>\n",
       "      <td>site2</td>\n",
       "      <td>2002.00</td>\n",
       "      <td>300</td>\n",
       "      <td>3</td>\n",
       "    </tr>\n",
       "    <tr>\n",
       "      <th>3</th>\n",
       "      <td>linkedin</td>\n",
       "      <td>400</td>\n",
       "      <td>site2</td>\n",
       "      <td>5000.00</td>\n",
       "      <td>800</td>\n",
       "      <td>4</td>\n",
       "    </tr>\n",
       "    <tr>\n",
       "      <th>4</th>\n",
       "      <td>facebook</td>\n",
       "      <td>500</td>\n",
       "      <td>site3</td>\n",
       "      <td>300.00</td>\n",
       "      <td>200</td>\n",
       "      <td>5</td>\n",
       "    </tr>\n",
       "  </tbody>\n",
       "</table>\n",
       "</div>"
      ],
      "text/plain": [
       "  canal_venda  acessos   site   vendas  lista  nova_coluna\n",
       "0    facebook      100  site1  1000.52    200            1\n",
       "1     twitter      200  site1  1052.34    200            2\n",
       "2   instagram      300  site2  2002.00    300            3\n",
       "3    linkedin      400  site2  5000.00    800            4\n",
       "4    facebook      500  site3   300.00    200            5"
      ]
     },
     "execution_count": 94,
     "metadata": {},
     "output_type": "execute_result"
    }
   ],
   "source": [
    "dataframe"
   ]
  },
  {
   "cell_type": "code",
   "execution_count": 95,
   "metadata": {},
   "outputs": [
    {
     "data": {
      "text/plain": [
       "facebook     2\n",
       "linkedin     1\n",
       "instagram    1\n",
       "twitter      1\n",
       "Name: canal_venda, dtype: int64"
      ]
     },
     "execution_count": 95,
     "metadata": {},
     "output_type": "execute_result"
    }
   ],
   "source": [
    "#Contando valores unicos de uma coluna\n",
    "dataframe['canal_venda'].value_counts()"
   ]
  },
  {
   "cell_type": "code",
   "execution_count": 96,
   "metadata": {},
   "outputs": [
    {
     "data": {
      "text/plain": [
       "array(['facebook', 'twitter', 'instagram', 'linkedin'], dtype=object)"
      ]
     },
     "execution_count": 96,
     "metadata": {},
     "output_type": "execute_result"
    }
   ],
   "source": [
    "#Valores unicos de uma coluna\n",
    "dataframe['canal_venda'].unique()"
   ]
  },
  {
   "cell_type": "code",
   "execution_count": 97,
   "metadata": {},
   "outputs": [
    {
     "data": {
      "text/plain": [
       "site\n",
       "site1    300\n",
       "site2    700\n",
       "site3    500\n",
       "Name: acessos, dtype: int64"
      ]
     },
     "execution_count": 97,
     "metadata": {},
     "output_type": "execute_result"
    }
   ],
   "source": [
    "# Usando o groupby com valores numericos\n",
    "dataframe.groupby('site')['acessos'].sum()"
   ]
  },
  {
   "cell_type": "code",
   "execution_count": 100,
   "metadata": {},
   "outputs": [
    {
     "data": {
      "text/plain": [
       "canal_venda\n",
       "facebook     300\n",
       "instagram    300\n",
       "linkedin     400\n",
       "twitter      200\n",
       "Name: acessos, dtype: int64"
      ]
     },
     "execution_count": 100,
     "metadata": {},
     "output_type": "execute_result"
    }
   ],
   "source": [
    "# Usando o groupby com valores numericos\n",
    "dataframe.groupby('canal_venda')['acessos'].median()"
   ]
  },
  {
   "cell_type": "code",
   "execution_count": 101,
   "metadata": {},
   "outputs": [
    {
     "data": {
      "text/plain": [
       "site\n",
       "site1      [facebook, twitter]\n",
       "site2    [instagram, linkedin]\n",
       "site3               [facebook]\n",
       "Name: canal_venda, dtype: object"
      ]
     },
     "execution_count": 101,
     "metadata": {},
     "output_type": "execute_result"
    }
   ],
   "source": [
    "# Usando o groupby com categoricos\n",
    "dataframe.groupby('site')['canal_venda'].unique()"
   ]
  },
  {
   "cell_type": "code",
   "execution_count": 102,
   "metadata": {},
   "outputs": [
    {
     "data": {
      "text/plain": [
       "site\n",
       "site1     facebook\n",
       "site2    instagram\n",
       "site3     facebook\n",
       "Name: canal_venda, dtype: object"
      ]
     },
     "execution_count": 102,
     "metadata": {},
     "output_type": "execute_result"
    }
   ],
   "source": [
    "# Usando o groupby com categoricos\n",
    "dataframe.groupby('site')['canal_venda'].first()"
   ]
  },
  {
   "cell_type": "code",
   "execution_count": 157,
   "metadata": {},
   "outputs": [
    {
     "data": {
      "text/html": [
       "<div>\n",
       "<style scoped>\n",
       "    .dataframe tbody tr th:only-of-type {\n",
       "        vertical-align: middle;\n",
       "    }\n",
       "\n",
       "    .dataframe tbody tr th {\n",
       "        vertical-align: top;\n",
       "    }\n",
       "\n",
       "    .dataframe thead th {\n",
       "        text-align: right;\n",
       "    }\n",
       "</style>\n",
       "<table border=\"1\" class=\"dataframe\">\n",
       "  <thead>\n",
       "    <tr style=\"text-align: right;\">\n",
       "      <th></th>\n",
       "      <th>site</th>\n",
       "      <th>acessos</th>\n",
       "    </tr>\n",
       "    <tr>\n",
       "      <th>canal_venda</th>\n",
       "      <th></th>\n",
       "      <th></th>\n",
       "    </tr>\n",
       "  </thead>\n",
       "  <tbody>\n",
       "    <tr>\n",
       "      <th>facebook</th>\n",
       "      <td>2</td>\n",
       "      <td>600</td>\n",
       "    </tr>\n",
       "    <tr>\n",
       "      <th>instagram</th>\n",
       "      <td>1</td>\n",
       "      <td>300</td>\n",
       "    </tr>\n",
       "    <tr>\n",
       "      <th>linkedin</th>\n",
       "      <td>1</td>\n",
       "      <td>400</td>\n",
       "    </tr>\n",
       "    <tr>\n",
       "      <th>twitter</th>\n",
       "      <td>1</td>\n",
       "      <td>200</td>\n",
       "    </tr>\n",
       "  </tbody>\n",
       "</table>\n",
       "</div>"
      ],
      "text/plain": [
       "             site  acessos\n",
       "canal_venda               \n",
       "facebook        2      600\n",
       "instagram       1      300\n",
       "linkedin        1      400\n",
       "twitter         1      200"
      ]
     },
     "execution_count": 157,
     "metadata": {},
     "output_type": "execute_result"
    }
   ],
   "source": [
    "#Usando o groupby com a função agg\n",
    "dataframe.groupby('canal_venda').agg({'site': 'count',\n",
    "                                     'acessos': 'sum'})\n"
   ]
  },
  {
   "cell_type": "code",
   "execution_count": 104,
   "metadata": {},
   "outputs": [
    {
     "data": {
      "text/html": [
       "<div>\n",
       "<style scoped>\n",
       "    .dataframe tbody tr th:only-of-type {\n",
       "        vertical-align: middle;\n",
       "    }\n",
       "\n",
       "    .dataframe tbody tr th {\n",
       "        vertical-align: top;\n",
       "    }\n",
       "\n",
       "    .dataframe thead th {\n",
       "        text-align: right;\n",
       "    }\n",
       "</style>\n",
       "<table border=\"1\" class=\"dataframe\">\n",
       "  <thead>\n",
       "    <tr style=\"text-align: right;\">\n",
       "      <th></th>\n",
       "      <th>acessos</th>\n",
       "      <th>vendas</th>\n",
       "      <th>lista</th>\n",
       "      <th>nova_coluna</th>\n",
       "    </tr>\n",
       "  </thead>\n",
       "  <tbody>\n",
       "    <tr>\n",
       "      <th>acessos</th>\n",
       "      <td>1.00000</td>\n",
       "      <td>0.000000</td>\n",
       "      <td>0.335410</td>\n",
       "      <td>1.00000</td>\n",
       "    </tr>\n",
       "    <tr>\n",
       "      <th>vendas</th>\n",
       "      <td>0.00000</td>\n",
       "      <td>1.000000</td>\n",
       "      <td>0.894427</td>\n",
       "      <td>0.00000</td>\n",
       "    </tr>\n",
       "    <tr>\n",
       "      <th>lista</th>\n",
       "      <td>0.33541</td>\n",
       "      <td>0.894427</td>\n",
       "      <td>1.000000</td>\n",
       "      <td>0.33541</td>\n",
       "    </tr>\n",
       "    <tr>\n",
       "      <th>nova_coluna</th>\n",
       "      <td>1.00000</td>\n",
       "      <td>0.000000</td>\n",
       "      <td>0.335410</td>\n",
       "      <td>1.00000</td>\n",
       "    </tr>\n",
       "  </tbody>\n",
       "</table>\n",
       "</div>"
      ],
      "text/plain": [
       "             acessos    vendas     lista  nova_coluna\n",
       "acessos      1.00000  0.000000  0.335410      1.00000\n",
       "vendas       0.00000  1.000000  0.894427      0.00000\n",
       "lista        0.33541  0.894427  1.000000      0.33541\n",
       "nova_coluna  1.00000  0.000000  0.335410      1.00000"
      ]
     },
     "execution_count": 104,
     "metadata": {},
     "output_type": "execute_result"
    }
   ],
   "source": [
    "#Correlações entre variaveis\n",
    "dataframe.corr(method = 'spearman')"
   ]
  },
  {
   "cell_type": "code",
   "execution_count": 105,
   "metadata": {},
   "outputs": [
    {
     "data": {
      "text/html": [
       "<div>\n",
       "<style scoped>\n",
       "    .dataframe tbody tr th:only-of-type {\n",
       "        vertical-align: middle;\n",
       "    }\n",
       "\n",
       "    .dataframe tbody tr th {\n",
       "        vertical-align: top;\n",
       "    }\n",
       "\n",
       "    .dataframe thead th {\n",
       "        text-align: right;\n",
       "    }\n",
       "</style>\n",
       "<table border=\"1\" class=\"dataframe\">\n",
       "  <thead>\n",
       "    <tr style=\"text-align: right;\">\n",
       "      <th></th>\n",
       "      <th>canal_venda</th>\n",
       "      <th>acessos</th>\n",
       "      <th>site</th>\n",
       "      <th>vendas</th>\n",
       "      <th>lista</th>\n",
       "      <th>nova_coluna</th>\n",
       "    </tr>\n",
       "  </thead>\n",
       "  <tbody>\n",
       "    <tr>\n",
       "      <th>0</th>\n",
       "      <td>facebook</td>\n",
       "      <td>100</td>\n",
       "      <td>site1</td>\n",
       "      <td>1000.52</td>\n",
       "      <td>200</td>\n",
       "      <td>1</td>\n",
       "    </tr>\n",
       "    <tr>\n",
       "      <th>1</th>\n",
       "      <td>twitter</td>\n",
       "      <td>200</td>\n",
       "      <td>site1</td>\n",
       "      <td>1052.34</td>\n",
       "      <td>200</td>\n",
       "      <td>2</td>\n",
       "    </tr>\n",
       "    <tr>\n",
       "      <th>2</th>\n",
       "      <td>instagram</td>\n",
       "      <td>300</td>\n",
       "      <td>site2</td>\n",
       "      <td>2002.00</td>\n",
       "      <td>300</td>\n",
       "      <td>3</td>\n",
       "    </tr>\n",
       "    <tr>\n",
       "      <th>3</th>\n",
       "      <td>linkedin</td>\n",
       "      <td>400</td>\n",
       "      <td>site2</td>\n",
       "      <td>5000.00</td>\n",
       "      <td>800</td>\n",
       "      <td>4</td>\n",
       "    </tr>\n",
       "    <tr>\n",
       "      <th>4</th>\n",
       "      <td>facebook</td>\n",
       "      <td>500</td>\n",
       "      <td>site3</td>\n",
       "      <td>300.00</td>\n",
       "      <td>200</td>\n",
       "      <td>5</td>\n",
       "    </tr>\n",
       "  </tbody>\n",
       "</table>\n",
       "</div>"
      ],
      "text/plain": [
       "  canal_venda  acessos   site   vendas  lista  nova_coluna\n",
       "0    facebook      100  site1  1000.52    200            1\n",
       "1     twitter      200  site1  1052.34    200            2\n",
       "2   instagram      300  site2  2002.00    300            3\n",
       "3    linkedin      400  site2  5000.00    800            4\n",
       "4    facebook      500  site3   300.00    200            5"
      ]
     },
     "execution_count": 105,
     "metadata": {},
     "output_type": "execute_result"
    }
   ],
   "source": [
    "dataframe"
   ]
  },
  {
   "cell_type": "code",
   "execution_count": 106,
   "metadata": {},
   "outputs": [],
   "source": [
    "#Criando variaveis categoricas por fatia de variavel numerica\n",
    "dataframe['categoria_vendas'] = pd.cut(dataframe['vendas'],\n",
    "                                       bins= (0, 1500, 2000, 8000), \n",
    "                                       labels = ('0 a 1500', '1500 a 2000', '2000 a 8000'))"
   ]
  },
  {
   "cell_type": "code",
   "execution_count": 107,
   "metadata": {},
   "outputs": [
    {
     "data": {
      "text/html": [
       "<div>\n",
       "<style scoped>\n",
       "    .dataframe tbody tr th:only-of-type {\n",
       "        vertical-align: middle;\n",
       "    }\n",
       "\n",
       "    .dataframe tbody tr th {\n",
       "        vertical-align: top;\n",
       "    }\n",
       "\n",
       "    .dataframe thead th {\n",
       "        text-align: right;\n",
       "    }\n",
       "</style>\n",
       "<table border=\"1\" class=\"dataframe\">\n",
       "  <thead>\n",
       "    <tr style=\"text-align: right;\">\n",
       "      <th></th>\n",
       "      <th>canal_venda</th>\n",
       "      <th>acessos</th>\n",
       "      <th>site</th>\n",
       "      <th>vendas</th>\n",
       "      <th>lista</th>\n",
       "      <th>nova_coluna</th>\n",
       "      <th>categoria_vendas</th>\n",
       "    </tr>\n",
       "  </thead>\n",
       "  <tbody>\n",
       "    <tr>\n",
       "      <th>0</th>\n",
       "      <td>facebook</td>\n",
       "      <td>100</td>\n",
       "      <td>site1</td>\n",
       "      <td>1000.52</td>\n",
       "      <td>200</td>\n",
       "      <td>1</td>\n",
       "      <td>0 a 1500</td>\n",
       "    </tr>\n",
       "    <tr>\n",
       "      <th>1</th>\n",
       "      <td>twitter</td>\n",
       "      <td>200</td>\n",
       "      <td>site1</td>\n",
       "      <td>1052.34</td>\n",
       "      <td>200</td>\n",
       "      <td>2</td>\n",
       "      <td>0 a 1500</td>\n",
       "    </tr>\n",
       "    <tr>\n",
       "      <th>2</th>\n",
       "      <td>instagram</td>\n",
       "      <td>300</td>\n",
       "      <td>site2</td>\n",
       "      <td>2002.00</td>\n",
       "      <td>300</td>\n",
       "      <td>3</td>\n",
       "      <td>2000 a 8000</td>\n",
       "    </tr>\n",
       "    <tr>\n",
       "      <th>3</th>\n",
       "      <td>linkedin</td>\n",
       "      <td>400</td>\n",
       "      <td>site2</td>\n",
       "      <td>5000.00</td>\n",
       "      <td>800</td>\n",
       "      <td>4</td>\n",
       "      <td>2000 a 8000</td>\n",
       "    </tr>\n",
       "    <tr>\n",
       "      <th>4</th>\n",
       "      <td>facebook</td>\n",
       "      <td>500</td>\n",
       "      <td>site3</td>\n",
       "      <td>300.00</td>\n",
       "      <td>200</td>\n",
       "      <td>5</td>\n",
       "      <td>0 a 1500</td>\n",
       "    </tr>\n",
       "  </tbody>\n",
       "</table>\n",
       "</div>"
      ],
      "text/plain": [
       "  canal_venda  acessos   site   vendas  lista  nova_coluna categoria_vendas\n",
       "0    facebook      100  site1  1000.52    200            1         0 a 1500\n",
       "1     twitter      200  site1  1052.34    200            2         0 a 1500\n",
       "2   instagram      300  site2  2002.00    300            3      2000 a 8000\n",
       "3    linkedin      400  site2  5000.00    800            4      2000 a 8000\n",
       "4    facebook      500  site3   300.00    200            5         0 a 1500"
      ]
     },
     "execution_count": 107,
     "metadata": {},
     "output_type": "execute_result"
    }
   ],
   "source": [
    "dataframe"
   ]
  },
  {
   "cell_type": "code",
   "execution_count": 108,
   "metadata": {},
   "outputs": [],
   "source": [
    "#Criando variavel categorica usando compressao de lista\n",
    "dataframe['categoria_acessos'] = ['maior_que_300' if x > 300 else 'menor_que_300' for x in dataframe['acessos']]"
   ]
  },
  {
   "cell_type": "code",
   "execution_count": 109,
   "metadata": {},
   "outputs": [
    {
     "data": {
      "text/html": [
       "<div>\n",
       "<style scoped>\n",
       "    .dataframe tbody tr th:only-of-type {\n",
       "        vertical-align: middle;\n",
       "    }\n",
       "\n",
       "    .dataframe tbody tr th {\n",
       "        vertical-align: top;\n",
       "    }\n",
       "\n",
       "    .dataframe thead th {\n",
       "        text-align: right;\n",
       "    }\n",
       "</style>\n",
       "<table border=\"1\" class=\"dataframe\">\n",
       "  <thead>\n",
       "    <tr style=\"text-align: right;\">\n",
       "      <th></th>\n",
       "      <th>canal_venda</th>\n",
       "      <th>acessos</th>\n",
       "      <th>site</th>\n",
       "      <th>vendas</th>\n",
       "      <th>lista</th>\n",
       "      <th>nova_coluna</th>\n",
       "      <th>categoria_vendas</th>\n",
       "      <th>categoria_acessos</th>\n",
       "    </tr>\n",
       "  </thead>\n",
       "  <tbody>\n",
       "    <tr>\n",
       "      <th>0</th>\n",
       "      <td>facebook</td>\n",
       "      <td>100</td>\n",
       "      <td>site1</td>\n",
       "      <td>1000.52</td>\n",
       "      <td>200</td>\n",
       "      <td>1</td>\n",
       "      <td>0 a 1500</td>\n",
       "      <td>menor_que_300</td>\n",
       "    </tr>\n",
       "    <tr>\n",
       "      <th>1</th>\n",
       "      <td>twitter</td>\n",
       "      <td>200</td>\n",
       "      <td>site1</td>\n",
       "      <td>1052.34</td>\n",
       "      <td>200</td>\n",
       "      <td>2</td>\n",
       "      <td>0 a 1500</td>\n",
       "      <td>menor_que_300</td>\n",
       "    </tr>\n",
       "    <tr>\n",
       "      <th>2</th>\n",
       "      <td>instagram</td>\n",
       "      <td>300</td>\n",
       "      <td>site2</td>\n",
       "      <td>2002.00</td>\n",
       "      <td>300</td>\n",
       "      <td>3</td>\n",
       "      <td>2000 a 8000</td>\n",
       "      <td>menor_que_300</td>\n",
       "    </tr>\n",
       "    <tr>\n",
       "      <th>3</th>\n",
       "      <td>linkedin</td>\n",
       "      <td>400</td>\n",
       "      <td>site2</td>\n",
       "      <td>5000.00</td>\n",
       "      <td>800</td>\n",
       "      <td>4</td>\n",
       "      <td>2000 a 8000</td>\n",
       "      <td>maior_que_300</td>\n",
       "    </tr>\n",
       "    <tr>\n",
       "      <th>4</th>\n",
       "      <td>facebook</td>\n",
       "      <td>500</td>\n",
       "      <td>site3</td>\n",
       "      <td>300.00</td>\n",
       "      <td>200</td>\n",
       "      <td>5</td>\n",
       "      <td>0 a 1500</td>\n",
       "      <td>maior_que_300</td>\n",
       "    </tr>\n",
       "  </tbody>\n",
       "</table>\n",
       "</div>"
      ],
      "text/plain": [
       "  canal_venda  acessos   site   vendas  lista  nova_coluna categoria_vendas  \\\n",
       "0    facebook      100  site1  1000.52    200            1         0 a 1500   \n",
       "1     twitter      200  site1  1052.34    200            2         0 a 1500   \n",
       "2   instagram      300  site2  2002.00    300            3      2000 a 8000   \n",
       "3    linkedin      400  site2  5000.00    800            4      2000 a 8000   \n",
       "4    facebook      500  site3   300.00    200            5         0 a 1500   \n",
       "\n",
       "  categoria_acessos  \n",
       "0     menor_que_300  \n",
       "1     menor_que_300  \n",
       "2     menor_que_300  \n",
       "3     maior_que_300  \n",
       "4     maior_que_300  "
      ]
     },
     "execution_count": 109,
     "metadata": {},
     "output_type": "execute_result"
    }
   ],
   "source": [
    "dataframe"
   ]
  },
  {
   "cell_type": "code",
   "execution_count": 152,
   "metadata": {},
   "outputs": [],
   "source": [
    "#Juntando dois dataframes | Criando o dataframe_2\n",
    "dataframe_2 = pd.DataFrame({'site': ['site1', 'site2', 'site3'],\n",
    "               'suporte': ['Carlos', 'Maria', 'Ezequiel']})\n"
   ]
  },
  {
   "cell_type": "code",
   "execution_count": 153,
   "metadata": {},
   "outputs": [
    {
     "data": {
      "text/html": [
       "<div>\n",
       "<style scoped>\n",
       "    .dataframe tbody tr th:only-of-type {\n",
       "        vertical-align: middle;\n",
       "    }\n",
       "\n",
       "    .dataframe tbody tr th {\n",
       "        vertical-align: top;\n",
       "    }\n",
       "\n",
       "    .dataframe thead th {\n",
       "        text-align: right;\n",
       "    }\n",
       "</style>\n",
       "<table border=\"1\" class=\"dataframe\">\n",
       "  <thead>\n",
       "    <tr style=\"text-align: right;\">\n",
       "      <th></th>\n",
       "      <th>canal_venda</th>\n",
       "      <th>acessos</th>\n",
       "      <th>site</th>\n",
       "      <th>vendas</th>\n",
       "      <th>lista</th>\n",
       "      <th>nova_coluna</th>\n",
       "      <th>categoria_vendas</th>\n",
       "      <th>categoria_acessos</th>\n",
       "      <th>suporte</th>\n",
       "    </tr>\n",
       "  </thead>\n",
       "  <tbody>\n",
       "    <tr>\n",
       "      <th>0</th>\n",
       "      <td>facebook</td>\n",
       "      <td>100</td>\n",
       "      <td>site1</td>\n",
       "      <td>1000.52</td>\n",
       "      <td>200</td>\n",
       "      <td>1</td>\n",
       "      <td>0 a 1500</td>\n",
       "      <td>menor_que_300</td>\n",
       "      <td>Carlos</td>\n",
       "    </tr>\n",
       "    <tr>\n",
       "      <th>1</th>\n",
       "      <td>twitter</td>\n",
       "      <td>200</td>\n",
       "      <td>site1</td>\n",
       "      <td>1052.34</td>\n",
       "      <td>200</td>\n",
       "      <td>2</td>\n",
       "      <td>0 a 1500</td>\n",
       "      <td>menor_que_300</td>\n",
       "      <td>Carlos</td>\n",
       "    </tr>\n",
       "    <tr>\n",
       "      <th>2</th>\n",
       "      <td>instagram</td>\n",
       "      <td>300</td>\n",
       "      <td>site2</td>\n",
       "      <td>2002.00</td>\n",
       "      <td>300</td>\n",
       "      <td>3</td>\n",
       "      <td>2000 a 8000</td>\n",
       "      <td>menor_que_300</td>\n",
       "      <td>Maria</td>\n",
       "    </tr>\n",
       "    <tr>\n",
       "      <th>3</th>\n",
       "      <td>linkedin</td>\n",
       "      <td>400</td>\n",
       "      <td>site2</td>\n",
       "      <td>5000.00</td>\n",
       "      <td>800</td>\n",
       "      <td>4</td>\n",
       "      <td>2000 a 8000</td>\n",
       "      <td>maior_que_300</td>\n",
       "      <td>Maria</td>\n",
       "    </tr>\n",
       "    <tr>\n",
       "      <th>4</th>\n",
       "      <td>facebook</td>\n",
       "      <td>500</td>\n",
       "      <td>site3</td>\n",
       "      <td>300.00</td>\n",
       "      <td>200</td>\n",
       "      <td>5</td>\n",
       "      <td>0 a 1500</td>\n",
       "      <td>maior_que_300</td>\n",
       "      <td>Ezequiel</td>\n",
       "    </tr>\n",
       "  </tbody>\n",
       "</table>\n",
       "</div>"
      ],
      "text/plain": [
       "  canal_venda  acessos   site   vendas  lista  nova_coluna categoria_vendas  \\\n",
       "0    facebook      100  site1  1000.52    200            1         0 a 1500   \n",
       "1     twitter      200  site1  1052.34    200            2         0 a 1500   \n",
       "2   instagram      300  site2  2002.00    300            3      2000 a 8000   \n",
       "3    linkedin      400  site2  5000.00    800            4      2000 a 8000   \n",
       "4    facebook      500  site3   300.00    200            5         0 a 1500   \n",
       "\n",
       "  categoria_acessos   suporte  \n",
       "0     menor_que_300    Carlos  \n",
       "1     menor_que_300    Carlos  \n",
       "2     menor_que_300     Maria  \n",
       "3     maior_que_300     Maria  \n",
       "4     maior_que_300  Ezequiel  "
      ]
     },
     "execution_count": 153,
     "metadata": {},
     "output_type": "execute_result"
    }
   ],
   "source": [
    "#Realizando o merge\n",
    "dataframe.merge(dataframe_2, on = 'site', how = 'left')"
   ]
  },
  {
   "cell_type": "code",
   "execution_count": 154,
   "metadata": {},
   "outputs": [],
   "source": [
    "#Salvando o dataframe como csv\n",
    "dataframe.to_csv('dataframe.csv', sep = ';', decimal = ',', index = False)"
   ]
  },
  {
   "cell_type": "code",
   "execution_count": 155,
   "metadata": {},
   "outputs": [],
   "source": [
    "#Lendo dados no formato csv\n",
    "dataframe_lido = pd.read_csv('dataframe.csv', sep = ';', decimal = ',')"
   ]
  },
  {
   "cell_type": "code",
   "execution_count": 156,
   "metadata": {},
   "outputs": [
    {
     "data": {
      "text/html": [
       "<div>\n",
       "<style scoped>\n",
       "    .dataframe tbody tr th:only-of-type {\n",
       "        vertical-align: middle;\n",
       "    }\n",
       "\n",
       "    .dataframe tbody tr th {\n",
       "        vertical-align: top;\n",
       "    }\n",
       "\n",
       "    .dataframe thead th {\n",
       "        text-align: right;\n",
       "    }\n",
       "</style>\n",
       "<table border=\"1\" class=\"dataframe\">\n",
       "  <thead>\n",
       "    <tr style=\"text-align: right;\">\n",
       "      <th></th>\n",
       "      <th>canal_venda</th>\n",
       "      <th>acessos</th>\n",
       "      <th>site</th>\n",
       "      <th>vendas</th>\n",
       "      <th>lista</th>\n",
       "      <th>nova_coluna</th>\n",
       "      <th>categoria_vendas</th>\n",
       "      <th>categoria_acessos</th>\n",
       "    </tr>\n",
       "  </thead>\n",
       "  <tbody>\n",
       "    <tr>\n",
       "      <th>0</th>\n",
       "      <td>facebook</td>\n",
       "      <td>100</td>\n",
       "      <td>site1</td>\n",
       "      <td>1000.52</td>\n",
       "      <td>200</td>\n",
       "      <td>1</td>\n",
       "      <td>0 a 1500</td>\n",
       "      <td>menor_que_300</td>\n",
       "    </tr>\n",
       "    <tr>\n",
       "      <th>1</th>\n",
       "      <td>twitter</td>\n",
       "      <td>200</td>\n",
       "      <td>site1</td>\n",
       "      <td>1052.34</td>\n",
       "      <td>200</td>\n",
       "      <td>2</td>\n",
       "      <td>0 a 1500</td>\n",
       "      <td>menor_que_300</td>\n",
       "    </tr>\n",
       "    <tr>\n",
       "      <th>2</th>\n",
       "      <td>instagram</td>\n",
       "      <td>300</td>\n",
       "      <td>site2</td>\n",
       "      <td>2002.00</td>\n",
       "      <td>300</td>\n",
       "      <td>3</td>\n",
       "      <td>2000 a 8000</td>\n",
       "      <td>menor_que_300</td>\n",
       "    </tr>\n",
       "    <tr>\n",
       "      <th>3</th>\n",
       "      <td>linkedin</td>\n",
       "      <td>400</td>\n",
       "      <td>site2</td>\n",
       "      <td>5000.00</td>\n",
       "      <td>800</td>\n",
       "      <td>4</td>\n",
       "      <td>2000 a 8000</td>\n",
       "      <td>maior_que_300</td>\n",
       "    </tr>\n",
       "    <tr>\n",
       "      <th>4</th>\n",
       "      <td>facebook</td>\n",
       "      <td>500</td>\n",
       "      <td>site3</td>\n",
       "      <td>300.00</td>\n",
       "      <td>200</td>\n",
       "      <td>5</td>\n",
       "      <td>0 a 1500</td>\n",
       "      <td>maior_que_300</td>\n",
       "    </tr>\n",
       "  </tbody>\n",
       "</table>\n",
       "</div>"
      ],
      "text/plain": [
       "  canal_venda  acessos   site   vendas  lista  nova_coluna categoria_vendas  \\\n",
       "0    facebook      100  site1  1000.52    200            1         0 a 1500   \n",
       "1     twitter      200  site1  1052.34    200            2         0 a 1500   \n",
       "2   instagram      300  site2  2002.00    300            3      2000 a 8000   \n",
       "3    linkedin      400  site2  5000.00    800            4      2000 a 8000   \n",
       "4    facebook      500  site3   300.00    200            5         0 a 1500   \n",
       "\n",
       "  categoria_acessos  \n",
       "0     menor_que_300  \n",
       "1     menor_que_300  \n",
       "2     menor_que_300  \n",
       "3     maior_que_300  \n",
       "4     maior_que_300  "
      ]
     },
     "execution_count": 156,
     "metadata": {},
     "output_type": "execute_result"
    }
   ],
   "source": [
    "dataframe_lido.head()"
   ]
  },
  {
   "cell_type": "code",
   "execution_count": 132,
   "metadata": {},
   "outputs": [],
   "source": [
    "json = pd.read_json('https://pricing.us-east-1.amazonaws.com/offers/v1.0/aws/index.json')"
   ]
  },
  {
   "cell_type": "code",
   "execution_count": 135,
   "metadata": {},
   "outputs": [
    {
     "data": {
      "text/html": [
       "<div>\n",
       "<style scoped>\n",
       "    .dataframe tbody tr th:only-of-type {\n",
       "        vertical-align: middle;\n",
       "    }\n",
       "\n",
       "    .dataframe tbody tr th {\n",
       "        vertical-align: top;\n",
       "    }\n",
       "\n",
       "    .dataframe thead th {\n",
       "        text-align: right;\n",
       "    }\n",
       "</style>\n",
       "<table border=\"1\" class=\"dataframe\">\n",
       "  <thead>\n",
       "    <tr style=\"text-align: right;\">\n",
       "      <th></th>\n",
       "      <th>index</th>\n",
       "      <th>formatVersion</th>\n",
       "      <th>disclaimer</th>\n",
       "      <th>publicationDate</th>\n",
       "      <th>offers</th>\n",
       "    </tr>\n",
       "  </thead>\n",
       "  <tbody>\n",
       "    <tr>\n",
       "      <th>0</th>\n",
       "      <td>A4B</td>\n",
       "      <td>v1.0</td>\n",
       "      <td>This pricing list is for informational purpose...</td>\n",
       "      <td>2020-07-15T16:38:42Z</td>\n",
       "      <td>{'offerCode': 'A4B', 'versionIndexUrl': '/offe...</td>\n",
       "    </tr>\n",
       "    <tr>\n",
       "      <th>1</th>\n",
       "      <td>AWSAmplify</td>\n",
       "      <td>v1.0</td>\n",
       "      <td>This pricing list is for informational purpose...</td>\n",
       "      <td>2020-07-15T16:38:42Z</td>\n",
       "      <td>{'offerCode': 'AWSAmplify', 'versionIndexUrl':...</td>\n",
       "    </tr>\n",
       "    <tr>\n",
       "      <th>2</th>\n",
       "      <td>AWSAppSync</td>\n",
       "      <td>v1.0</td>\n",
       "      <td>This pricing list is for informational purpose...</td>\n",
       "      <td>2020-07-15T16:38:42Z</td>\n",
       "      <td>{'offerCode': 'AWSAppSync', 'versionIndexUrl':...</td>\n",
       "    </tr>\n",
       "    <tr>\n",
       "      <th>3</th>\n",
       "      <td>AWSBackup</td>\n",
       "      <td>v1.0</td>\n",
       "      <td>This pricing list is for informational purpose...</td>\n",
       "      <td>2020-07-15T16:38:42Z</td>\n",
       "      <td>{'offerCode': 'AWSBackup', 'versionIndexUrl': ...</td>\n",
       "    </tr>\n",
       "    <tr>\n",
       "      <th>4</th>\n",
       "      <td>AWSBudgets</td>\n",
       "      <td>v1.0</td>\n",
       "      <td>This pricing list is for informational purpose...</td>\n",
       "      <td>2020-07-15T16:38:42Z</td>\n",
       "      <td>{'offerCode': 'AWSBudgets', 'versionIndexUrl':...</td>\n",
       "    </tr>\n",
       "    <tr>\n",
       "      <th>...</th>\n",
       "      <td>...</td>\n",
       "      <td>...</td>\n",
       "      <td>...</td>\n",
       "      <td>...</td>\n",
       "      <td>...</td>\n",
       "    </tr>\n",
       "    <tr>\n",
       "      <th>151</th>\n",
       "      <td>comprehendmedical</td>\n",
       "      <td>v1.0</td>\n",
       "      <td>This pricing list is for informational purpose...</td>\n",
       "      <td>2020-07-15T16:38:42Z</td>\n",
       "      <td>{'offerCode': 'comprehendmedical', 'versionInd...</td>\n",
       "    </tr>\n",
       "    <tr>\n",
       "      <th>152</th>\n",
       "      <td>datapipeline</td>\n",
       "      <td>v1.0</td>\n",
       "      <td>This pricing list is for informational purpose...</td>\n",
       "      <td>2020-07-15T16:38:42Z</td>\n",
       "      <td>{'offerCode': 'datapipeline', 'versionIndexUrl...</td>\n",
       "    </tr>\n",
       "    <tr>\n",
       "      <th>153</th>\n",
       "      <td>mobileanalytics</td>\n",
       "      <td>v1.0</td>\n",
       "      <td>This pricing list is for informational purpose...</td>\n",
       "      <td>2020-07-15T16:38:42Z</td>\n",
       "      <td>{'offerCode': 'mobileanalytics', 'versionIndex...</td>\n",
       "    </tr>\n",
       "    <tr>\n",
       "      <th>154</th>\n",
       "      <td>transcribe</td>\n",
       "      <td>v1.0</td>\n",
       "      <td>This pricing list is for informational purpose...</td>\n",
       "      <td>2020-07-15T16:38:42Z</td>\n",
       "      <td>{'offerCode': 'transcribe', 'versionIndexUrl':...</td>\n",
       "    </tr>\n",
       "    <tr>\n",
       "      <th>155</th>\n",
       "      <td>translate</td>\n",
       "      <td>v1.0</td>\n",
       "      <td>This pricing list is for informational purpose...</td>\n",
       "      <td>2020-07-15T16:38:42Z</td>\n",
       "      <td>{'offerCode': 'translate', 'versionIndexUrl': ...</td>\n",
       "    </tr>\n",
       "  </tbody>\n",
       "</table>\n",
       "<p>156 rows × 5 columns</p>\n",
       "</div>"
      ],
      "text/plain": [
       "                 index formatVersion  \\\n",
       "0                  A4B          v1.0   \n",
       "1           AWSAmplify          v1.0   \n",
       "2           AWSAppSync          v1.0   \n",
       "3            AWSBackup          v1.0   \n",
       "4           AWSBudgets          v1.0   \n",
       "..                 ...           ...   \n",
       "151  comprehendmedical          v1.0   \n",
       "152       datapipeline          v1.0   \n",
       "153    mobileanalytics          v1.0   \n",
       "154         transcribe          v1.0   \n",
       "155          translate          v1.0   \n",
       "\n",
       "                                            disclaimer       publicationDate  \\\n",
       "0    This pricing list is for informational purpose...  2020-07-15T16:38:42Z   \n",
       "1    This pricing list is for informational purpose...  2020-07-15T16:38:42Z   \n",
       "2    This pricing list is for informational purpose...  2020-07-15T16:38:42Z   \n",
       "3    This pricing list is for informational purpose...  2020-07-15T16:38:42Z   \n",
       "4    This pricing list is for informational purpose...  2020-07-15T16:38:42Z   \n",
       "..                                                 ...                   ...   \n",
       "151  This pricing list is for informational purpose...  2020-07-15T16:38:42Z   \n",
       "152  This pricing list is for informational purpose...  2020-07-15T16:38:42Z   \n",
       "153  This pricing list is for informational purpose...  2020-07-15T16:38:42Z   \n",
       "154  This pricing list is for informational purpose...  2020-07-15T16:38:42Z   \n",
       "155  This pricing list is for informational purpose...  2020-07-15T16:38:42Z   \n",
       "\n",
       "                                                offers  \n",
       "0    {'offerCode': 'A4B', 'versionIndexUrl': '/offe...  \n",
       "1    {'offerCode': 'AWSAmplify', 'versionIndexUrl':...  \n",
       "2    {'offerCode': 'AWSAppSync', 'versionIndexUrl':...  \n",
       "3    {'offerCode': 'AWSBackup', 'versionIndexUrl': ...  \n",
       "4    {'offerCode': 'AWSBudgets', 'versionIndexUrl':...  \n",
       "..                                                 ...  \n",
       "151  {'offerCode': 'comprehendmedical', 'versionInd...  \n",
       "152  {'offerCode': 'datapipeline', 'versionIndexUrl...  \n",
       "153  {'offerCode': 'mobileanalytics', 'versionIndex...  \n",
       "154  {'offerCode': 'transcribe', 'versionIndexUrl':...  \n",
       "155  {'offerCode': 'translate', 'versionIndexUrl': ...  \n",
       "\n",
       "[156 rows x 5 columns]"
      ]
     },
     "execution_count": 135,
     "metadata": {},
     "output_type": "execute_result"
    }
   ],
   "source": [
    "json"
   ]
  },
  {
   "cell_type": "code",
   "execution_count": 134,
   "metadata": {},
   "outputs": [],
   "source": [
    "json.reset_index(inplace = True)"
   ]
  },
  {
   "cell_type": "code",
   "execution_count": 137,
   "metadata": {},
   "outputs": [
    {
     "data": {
      "text/plain": [
       "0                    A4B\n",
       "1             AWSAmplify\n",
       "2             AWSAppSync\n",
       "3              AWSBackup\n",
       "4             AWSBudgets\n",
       "             ...        \n",
       "151    comprehendmedical\n",
       "152         datapipeline\n",
       "153      mobileanalytics\n",
       "154           transcribe\n",
       "155            translate\n",
       "Name: index, Length: 156, dtype: object"
      ]
     },
     "execution_count": 137,
     "metadata": {},
     "output_type": "execute_result"
    }
   ],
   "source": [
    "json['index']"
   ]
  },
  {
   "cell_type": "markdown",
   "metadata": {},
   "source": [
    "## Imputação de dados"
   ]
  },
  {
   "cell_type": "code",
   "execution_count": 138,
   "metadata": {},
   "outputs": [],
   "source": [
    "df = pd.read_csv('train.csv')"
   ]
  },
  {
   "cell_type": "code",
   "execution_count": 142,
   "metadata": {},
   "outputs": [
    {
     "data": {
      "text/html": [
       "<div>\n",
       "<style scoped>\n",
       "    .dataframe tbody tr th:only-of-type {\n",
       "        vertical-align: middle;\n",
       "    }\n",
       "\n",
       "    .dataframe tbody tr th {\n",
       "        vertical-align: top;\n",
       "    }\n",
       "\n",
       "    .dataframe thead th {\n",
       "        text-align: right;\n",
       "    }\n",
       "</style>\n",
       "<table border=\"1\" class=\"dataframe\">\n",
       "  <thead>\n",
       "    <tr style=\"text-align: right;\">\n",
       "      <th></th>\n",
       "      <th>PassengerId</th>\n",
       "      <th>Survived</th>\n",
       "      <th>Pclass</th>\n",
       "      <th>Name</th>\n",
       "      <th>Sex</th>\n",
       "      <th>Age</th>\n",
       "      <th>SibSp</th>\n",
       "      <th>Parch</th>\n",
       "      <th>Ticket</th>\n",
       "      <th>Fare</th>\n",
       "      <th>Cabin</th>\n",
       "      <th>Embarked</th>\n",
       "    </tr>\n",
       "  </thead>\n",
       "  <tbody>\n",
       "    <tr>\n",
       "      <th>0</th>\n",
       "      <td>1</td>\n",
       "      <td>0</td>\n",
       "      <td>3</td>\n",
       "      <td>Braund, Mr. Owen Harris</td>\n",
       "      <td>male</td>\n",
       "      <td>22.0</td>\n",
       "      <td>1</td>\n",
       "      <td>0</td>\n",
       "      <td>A/5 21171</td>\n",
       "      <td>7.2500</td>\n",
       "      <td>NaN</td>\n",
       "      <td>S</td>\n",
       "    </tr>\n",
       "    <tr>\n",
       "      <th>1</th>\n",
       "      <td>2</td>\n",
       "      <td>1</td>\n",
       "      <td>1</td>\n",
       "      <td>Cumings, Mrs. John Bradley (Florence Briggs Th...</td>\n",
       "      <td>female</td>\n",
       "      <td>38.0</td>\n",
       "      <td>1</td>\n",
       "      <td>0</td>\n",
       "      <td>PC 17599</td>\n",
       "      <td>71.2833</td>\n",
       "      <td>C85</td>\n",
       "      <td>C</td>\n",
       "    </tr>\n",
       "    <tr>\n",
       "      <th>2</th>\n",
       "      <td>3</td>\n",
       "      <td>1</td>\n",
       "      <td>3</td>\n",
       "      <td>Heikkinen, Miss. Laina</td>\n",
       "      <td>female</td>\n",
       "      <td>26.0</td>\n",
       "      <td>0</td>\n",
       "      <td>0</td>\n",
       "      <td>STON/O2. 3101282</td>\n",
       "      <td>7.9250</td>\n",
       "      <td>NaN</td>\n",
       "      <td>S</td>\n",
       "    </tr>\n",
       "    <tr>\n",
       "      <th>3</th>\n",
       "      <td>4</td>\n",
       "      <td>1</td>\n",
       "      <td>1</td>\n",
       "      <td>Futrelle, Mrs. Jacques Heath (Lily May Peel)</td>\n",
       "      <td>female</td>\n",
       "      <td>35.0</td>\n",
       "      <td>1</td>\n",
       "      <td>0</td>\n",
       "      <td>113803</td>\n",
       "      <td>53.1000</td>\n",
       "      <td>C123</td>\n",
       "      <td>S</td>\n",
       "    </tr>\n",
       "    <tr>\n",
       "      <th>4</th>\n",
       "      <td>5</td>\n",
       "      <td>0</td>\n",
       "      <td>3</td>\n",
       "      <td>Allen, Mr. William Henry</td>\n",
       "      <td>male</td>\n",
       "      <td>35.0</td>\n",
       "      <td>0</td>\n",
       "      <td>0</td>\n",
       "      <td>373450</td>\n",
       "      <td>8.0500</td>\n",
       "      <td>NaN</td>\n",
       "      <td>S</td>\n",
       "    </tr>\n",
       "    <tr>\n",
       "      <th>...</th>\n",
       "      <td>...</td>\n",
       "      <td>...</td>\n",
       "      <td>...</td>\n",
       "      <td>...</td>\n",
       "      <td>...</td>\n",
       "      <td>...</td>\n",
       "      <td>...</td>\n",
       "      <td>...</td>\n",
       "      <td>...</td>\n",
       "      <td>...</td>\n",
       "      <td>...</td>\n",
       "      <td>...</td>\n",
       "    </tr>\n",
       "    <tr>\n",
       "      <th>886</th>\n",
       "      <td>887</td>\n",
       "      <td>0</td>\n",
       "      <td>2</td>\n",
       "      <td>Montvila, Rev. Juozas</td>\n",
       "      <td>male</td>\n",
       "      <td>27.0</td>\n",
       "      <td>0</td>\n",
       "      <td>0</td>\n",
       "      <td>211536</td>\n",
       "      <td>13.0000</td>\n",
       "      <td>NaN</td>\n",
       "      <td>S</td>\n",
       "    </tr>\n",
       "    <tr>\n",
       "      <th>887</th>\n",
       "      <td>888</td>\n",
       "      <td>1</td>\n",
       "      <td>1</td>\n",
       "      <td>Graham, Miss. Margaret Edith</td>\n",
       "      <td>female</td>\n",
       "      <td>19.0</td>\n",
       "      <td>0</td>\n",
       "      <td>0</td>\n",
       "      <td>112053</td>\n",
       "      <td>30.0000</td>\n",
       "      <td>B42</td>\n",
       "      <td>S</td>\n",
       "    </tr>\n",
       "    <tr>\n",
       "      <th>888</th>\n",
       "      <td>889</td>\n",
       "      <td>0</td>\n",
       "      <td>3</td>\n",
       "      <td>Johnston, Miss. Catherine Helen \"Carrie\"</td>\n",
       "      <td>female</td>\n",
       "      <td>NaN</td>\n",
       "      <td>1</td>\n",
       "      <td>2</td>\n",
       "      <td>W./C. 6607</td>\n",
       "      <td>23.4500</td>\n",
       "      <td>NaN</td>\n",
       "      <td>S</td>\n",
       "    </tr>\n",
       "    <tr>\n",
       "      <th>889</th>\n",
       "      <td>890</td>\n",
       "      <td>1</td>\n",
       "      <td>1</td>\n",
       "      <td>Behr, Mr. Karl Howell</td>\n",
       "      <td>male</td>\n",
       "      <td>26.0</td>\n",
       "      <td>0</td>\n",
       "      <td>0</td>\n",
       "      <td>111369</td>\n",
       "      <td>30.0000</td>\n",
       "      <td>C148</td>\n",
       "      <td>C</td>\n",
       "    </tr>\n",
       "    <tr>\n",
       "      <th>890</th>\n",
       "      <td>891</td>\n",
       "      <td>0</td>\n",
       "      <td>3</td>\n",
       "      <td>Dooley, Mr. Patrick</td>\n",
       "      <td>male</td>\n",
       "      <td>32.0</td>\n",
       "      <td>0</td>\n",
       "      <td>0</td>\n",
       "      <td>370376</td>\n",
       "      <td>7.7500</td>\n",
       "      <td>NaN</td>\n",
       "      <td>Q</td>\n",
       "    </tr>\n",
       "  </tbody>\n",
       "</table>\n",
       "<p>891 rows × 12 columns</p>\n",
       "</div>"
      ],
      "text/plain": [
       "     PassengerId  Survived  Pclass  \\\n",
       "0              1         0       3   \n",
       "1              2         1       1   \n",
       "2              3         1       3   \n",
       "3              4         1       1   \n",
       "4              5         0       3   \n",
       "..           ...       ...     ...   \n",
       "886          887         0       2   \n",
       "887          888         1       1   \n",
       "888          889         0       3   \n",
       "889          890         1       1   \n",
       "890          891         0       3   \n",
       "\n",
       "                                                  Name     Sex   Age  SibSp  \\\n",
       "0                              Braund, Mr. Owen Harris    male  22.0      1   \n",
       "1    Cumings, Mrs. John Bradley (Florence Briggs Th...  female  38.0      1   \n",
       "2                               Heikkinen, Miss. Laina  female  26.0      0   \n",
       "3         Futrelle, Mrs. Jacques Heath (Lily May Peel)  female  35.0      1   \n",
       "4                             Allen, Mr. William Henry    male  35.0      0   \n",
       "..                                                 ...     ...   ...    ...   \n",
       "886                              Montvila, Rev. Juozas    male  27.0      0   \n",
       "887                       Graham, Miss. Margaret Edith  female  19.0      0   \n",
       "888           Johnston, Miss. Catherine Helen \"Carrie\"  female   NaN      1   \n",
       "889                              Behr, Mr. Karl Howell    male  26.0      0   \n",
       "890                                Dooley, Mr. Patrick    male  32.0      0   \n",
       "\n",
       "     Parch            Ticket     Fare Cabin Embarked  \n",
       "0        0         A/5 21171   7.2500   NaN        S  \n",
       "1        0          PC 17599  71.2833   C85        C  \n",
       "2        0  STON/O2. 3101282   7.9250   NaN        S  \n",
       "3        0            113803  53.1000  C123        S  \n",
       "4        0            373450   8.0500   NaN        S  \n",
       "..     ...               ...      ...   ...      ...  \n",
       "886      0            211536  13.0000   NaN        S  \n",
       "887      0            112053  30.0000   B42        S  \n",
       "888      2        W./C. 6607  23.4500   NaN        S  \n",
       "889      0            111369  30.0000  C148        C  \n",
       "890      0            370376   7.7500   NaN        Q  \n",
       "\n",
       "[891 rows x 12 columns]"
      ]
     },
     "execution_count": 142,
     "metadata": {},
     "output_type": "execute_result"
    }
   ],
   "source": [
    "df"
   ]
  },
  {
   "cell_type": "code",
   "execution_count": 139,
   "metadata": {},
   "outputs": [],
   "source": [
    "aux = pd.DataFrame({'colunas': df.columns,\n",
    "                    'tipos': df.dtypes,\n",
    "                    'percentual_faltante': df.isna().sum() / df.shape[0]})"
   ]
  },
  {
   "cell_type": "code",
   "execution_count": 143,
   "metadata": {},
   "outputs": [
    {
     "data": {
      "text/html": [
       "<div>\n",
       "<style scoped>\n",
       "    .dataframe tbody tr th:only-of-type {\n",
       "        vertical-align: middle;\n",
       "    }\n",
       "\n",
       "    .dataframe tbody tr th {\n",
       "        vertical-align: top;\n",
       "    }\n",
       "\n",
       "    .dataframe thead th {\n",
       "        text-align: right;\n",
       "    }\n",
       "</style>\n",
       "<table border=\"1\" class=\"dataframe\">\n",
       "  <thead>\n",
       "    <tr style=\"text-align: right;\">\n",
       "      <th></th>\n",
       "      <th>colunas</th>\n",
       "      <th>tipos</th>\n",
       "      <th>percentual_faltante</th>\n",
       "    </tr>\n",
       "  </thead>\n",
       "  <tbody>\n",
       "    <tr>\n",
       "      <th>PassengerId</th>\n",
       "      <td>PassengerId</td>\n",
       "      <td>int64</td>\n",
       "      <td>0.000000</td>\n",
       "    </tr>\n",
       "    <tr>\n",
       "      <th>Survived</th>\n",
       "      <td>Survived</td>\n",
       "      <td>int64</td>\n",
       "      <td>0.000000</td>\n",
       "    </tr>\n",
       "    <tr>\n",
       "      <th>Pclass</th>\n",
       "      <td>Pclass</td>\n",
       "      <td>int64</td>\n",
       "      <td>0.000000</td>\n",
       "    </tr>\n",
       "    <tr>\n",
       "      <th>Name</th>\n",
       "      <td>Name</td>\n",
       "      <td>object</td>\n",
       "      <td>0.000000</td>\n",
       "    </tr>\n",
       "    <tr>\n",
       "      <th>Sex</th>\n",
       "      <td>Sex</td>\n",
       "      <td>object</td>\n",
       "      <td>0.000000</td>\n",
       "    </tr>\n",
       "    <tr>\n",
       "      <th>Age</th>\n",
       "      <td>Age</td>\n",
       "      <td>float64</td>\n",
       "      <td>0.198653</td>\n",
       "    </tr>\n",
       "    <tr>\n",
       "      <th>SibSp</th>\n",
       "      <td>SibSp</td>\n",
       "      <td>int64</td>\n",
       "      <td>0.000000</td>\n",
       "    </tr>\n",
       "    <tr>\n",
       "      <th>Parch</th>\n",
       "      <td>Parch</td>\n",
       "      <td>int64</td>\n",
       "      <td>0.000000</td>\n",
       "    </tr>\n",
       "    <tr>\n",
       "      <th>Ticket</th>\n",
       "      <td>Ticket</td>\n",
       "      <td>object</td>\n",
       "      <td>0.000000</td>\n",
       "    </tr>\n",
       "    <tr>\n",
       "      <th>Fare</th>\n",
       "      <td>Fare</td>\n",
       "      <td>float64</td>\n",
       "      <td>0.000000</td>\n",
       "    </tr>\n",
       "    <tr>\n",
       "      <th>Cabin</th>\n",
       "      <td>Cabin</td>\n",
       "      <td>object</td>\n",
       "      <td>0.771044</td>\n",
       "    </tr>\n",
       "    <tr>\n",
       "      <th>Embarked</th>\n",
       "      <td>Embarked</td>\n",
       "      <td>object</td>\n",
       "      <td>0.002245</td>\n",
       "    </tr>\n",
       "  </tbody>\n",
       "</table>\n",
       "</div>"
      ],
      "text/plain": [
       "                 colunas    tipos  percentual_faltante\n",
       "PassengerId  PassengerId    int64             0.000000\n",
       "Survived        Survived    int64             0.000000\n",
       "Pclass            Pclass    int64             0.000000\n",
       "Name                Name   object             0.000000\n",
       "Sex                  Sex   object             0.000000\n",
       "Age                  Age  float64             0.198653\n",
       "SibSp              SibSp    int64             0.000000\n",
       "Parch              Parch    int64             0.000000\n",
       "Ticket            Ticket   object             0.000000\n",
       "Fare                Fare  float64             0.000000\n",
       "Cabin              Cabin   object             0.771044\n",
       "Embarked        Embarked   object             0.002245"
      ]
     },
     "execution_count": 143,
     "metadata": {},
     "output_type": "execute_result"
    }
   ],
   "source": [
    "aux"
   ]
  },
  {
   "cell_type": "code",
   "execution_count": 144,
   "metadata": {},
   "outputs": [],
   "source": [
    "#Dados númericos : média ou mediana\n",
    "df['Age'] = df['Age'].fillna(df['Age'].mode())"
   ]
  },
  {
   "cell_type": "code",
   "execution_count": 145,
   "metadata": {},
   "outputs": [],
   "source": [
    "#Dados categoricos: Unknown ou moda\n",
    "df['Cabin'] = df['Cabin'].fillna('Unknown')"
   ]
  },
  {
   "cell_type": "code",
   "execution_count": 146,
   "metadata": {},
   "outputs": [
    {
     "data": {
      "text/plain": [
       "Unknown        687\n",
       "C23 C25 C27      4\n",
       "G6               4\n",
       "B96 B98          4\n",
       "D                3\n",
       "              ... \n",
       "C95              1\n",
       "B94              1\n",
       "C50              1\n",
       "A34              1\n",
       "C32              1\n",
       "Name: Cabin, Length: 148, dtype: int64"
      ]
     },
     "execution_count": 146,
     "metadata": {},
     "output_type": "execute_result"
    }
   ],
   "source": [
    "df['Cabin'].value_counts()"
   ]
  },
  {
   "cell_type": "code",
   "execution_count": 150,
   "metadata": {},
   "outputs": [
    {
     "data": {
      "text/plain": [
       "891"
      ]
     },
     "execution_count": 150,
     "metadata": {},
     "output_type": "execute_result"
    }
   ],
   "source": [
    "df.shape[0]"
   ]
  },
  {
   "cell_type": "code",
   "execution_count": 148,
   "metadata": {},
   "outputs": [
    {
     "data": {
      "text/plain": [
       "(891, 12)"
      ]
     },
     "execution_count": 148,
     "metadata": {},
     "output_type": "execute_result"
    }
   ],
   "source": [
    "df.shape"
   ]
  }
 ],
 "metadata": {
  "kernelspec": {
   "display_name": "Python 3",
   "language": "python",
   "name": "python3"
  },
  "language_info": {
   "codemirror_mode": {
    "name": "ipython",
    "version": 3
   },
   "file_extension": ".py",
   "mimetype": "text/x-python",
   "name": "python",
   "nbconvert_exporter": "python",
   "pygments_lexer": "ipython3",
   "version": "3.8.3"
  }
 },
 "nbformat": 4,
 "nbformat_minor": 2
}
