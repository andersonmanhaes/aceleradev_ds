{
 "cells": [
  {
   "cell_type": "markdown",
   "metadata": {},
   "source": [
    "# Aceleradev Codenation - Semana 3\n",
    "## Túlio Vieira de Souza | Data Scientist"
   ]
  },
  {
   "cell_type": "markdown",
   "metadata": {},
   "source": [
    "dados : https://www.kaggle.com/rubenssjr/brasilian-houses-to-rent"
   ]
  },
  {
   "cell_type": "markdown",
   "metadata": {},
   "source": [
    "Colunas \n",
    "\n",
    "- city : Cidade onde o imóvel está localizada / City where the property is located\n",
    "- area : Area do imovel / Property area\n",
    "- rooms: Numero de quartos/ Quantity of rooms\n",
    "- bathroom: Numero de banheiros / Quantity of bathroom\n",
    "- parking spaces : Numero de vagas / Quantity of parking spaces\n",
    "- floor : Andar / Floor\n",
    "- animal : Aceita animais? / Acept animals?\n",
    "- furniture : Mobilhada? / Furniture?\n",
    "- hoa (RS): Valor do condomínio / Homeowners association tax \n",
    "- rent amount (RS) : Valor do Aluguel (/) Rent amount \n",
    "- property tax (RS) : IPTU (/) Property tax\n",
    "- fire insurance (RS) : Seguro Incendio / Fire Insurance\n",
    "- total (RS) : Valor total / Total"
   ]
  },
  {
   "cell_type": "markdown",
   "metadata": {},
   "source": [
    "### Importando os pacotes"
   ]
  },
  {
   "cell_type": "code",
   "execution_count": 1,
   "metadata": {},
   "outputs": [],
   "source": [
    "import pandas as pd"
   ]
  },
  {
   "cell_type": "code",
   "execution_count": 2,
   "metadata": {},
   "outputs": [],
   "source": [
    "df = pd.read_csv('houses_to_rent_v2.csv')"
   ]
  },
  {
   "cell_type": "code",
   "execution_count": 3,
   "metadata": {},
   "outputs": [
    {
     "data": {
      "text/html": [
       "<div>\n",
       "<style scoped>\n",
       "    .dataframe tbody tr th:only-of-type {\n",
       "        vertical-align: middle;\n",
       "    }\n",
       "\n",
       "    .dataframe tbody tr th {\n",
       "        vertical-align: top;\n",
       "    }\n",
       "\n",
       "    .dataframe thead th {\n",
       "        text-align: right;\n",
       "    }\n",
       "</style>\n",
       "<table border=\"1\" class=\"dataframe\">\n",
       "  <thead>\n",
       "    <tr style=\"text-align: right;\">\n",
       "      <th></th>\n",
       "      <th>city</th>\n",
       "      <th>area</th>\n",
       "      <th>rooms</th>\n",
       "      <th>bathroom</th>\n",
       "      <th>parking spaces</th>\n",
       "      <th>floor</th>\n",
       "      <th>animal</th>\n",
       "      <th>furniture</th>\n",
       "      <th>hoa (R$)</th>\n",
       "      <th>rent amount (R$)</th>\n",
       "      <th>property tax (R$)</th>\n",
       "      <th>fire insurance (R$)</th>\n",
       "      <th>total (R$)</th>\n",
       "    </tr>\n",
       "  </thead>\n",
       "  <tbody>\n",
       "    <tr>\n",
       "      <th>0</th>\n",
       "      <td>São Paulo</td>\n",
       "      <td>70</td>\n",
       "      <td>2</td>\n",
       "      <td>1</td>\n",
       "      <td>1</td>\n",
       "      <td>7</td>\n",
       "      <td>acept</td>\n",
       "      <td>furnished</td>\n",
       "      <td>2065</td>\n",
       "      <td>3300</td>\n",
       "      <td>211</td>\n",
       "      <td>42</td>\n",
       "      <td>5618</td>\n",
       "    </tr>\n",
       "    <tr>\n",
       "      <th>1</th>\n",
       "      <td>São Paulo</td>\n",
       "      <td>320</td>\n",
       "      <td>4</td>\n",
       "      <td>4</td>\n",
       "      <td>0</td>\n",
       "      <td>20</td>\n",
       "      <td>acept</td>\n",
       "      <td>not furnished</td>\n",
       "      <td>1200</td>\n",
       "      <td>4960</td>\n",
       "      <td>1750</td>\n",
       "      <td>63</td>\n",
       "      <td>7973</td>\n",
       "    </tr>\n",
       "    <tr>\n",
       "      <th>2</th>\n",
       "      <td>Porto Alegre</td>\n",
       "      <td>80</td>\n",
       "      <td>1</td>\n",
       "      <td>1</td>\n",
       "      <td>1</td>\n",
       "      <td>6</td>\n",
       "      <td>acept</td>\n",
       "      <td>not furnished</td>\n",
       "      <td>1000</td>\n",
       "      <td>2800</td>\n",
       "      <td>0</td>\n",
       "      <td>41</td>\n",
       "      <td>3841</td>\n",
       "    </tr>\n",
       "    <tr>\n",
       "      <th>3</th>\n",
       "      <td>Porto Alegre</td>\n",
       "      <td>51</td>\n",
       "      <td>2</td>\n",
       "      <td>1</td>\n",
       "      <td>0</td>\n",
       "      <td>2</td>\n",
       "      <td>acept</td>\n",
       "      <td>not furnished</td>\n",
       "      <td>270</td>\n",
       "      <td>1112</td>\n",
       "      <td>22</td>\n",
       "      <td>17</td>\n",
       "      <td>1421</td>\n",
       "    </tr>\n",
       "    <tr>\n",
       "      <th>4</th>\n",
       "      <td>São Paulo</td>\n",
       "      <td>25</td>\n",
       "      <td>1</td>\n",
       "      <td>1</td>\n",
       "      <td>0</td>\n",
       "      <td>1</td>\n",
       "      <td>not acept</td>\n",
       "      <td>not furnished</td>\n",
       "      <td>0</td>\n",
       "      <td>800</td>\n",
       "      <td>25</td>\n",
       "      <td>11</td>\n",
       "      <td>836</td>\n",
       "    </tr>\n",
       "  </tbody>\n",
       "</table>\n",
       "</div>"
      ],
      "text/plain": [
       "           city  area  rooms  bathroom  parking spaces floor     animal  \\\n",
       "0     São Paulo    70      2         1               1     7      acept   \n",
       "1     São Paulo   320      4         4               0    20      acept   \n",
       "2  Porto Alegre    80      1         1               1     6      acept   \n",
       "3  Porto Alegre    51      2         1               0     2      acept   \n",
       "4     São Paulo    25      1         1               0     1  not acept   \n",
       "\n",
       "       furniture  hoa (R$)  rent amount (R$)  property tax (R$)  \\\n",
       "0      furnished      2065              3300                211   \n",
       "1  not furnished      1200              4960               1750   \n",
       "2  not furnished      1000              2800                  0   \n",
       "3  not furnished       270              1112                 22   \n",
       "4  not furnished         0               800                 25   \n",
       "\n",
       "   fire insurance (R$)  total (R$)  \n",
       "0                   42        5618  \n",
       "1                   63        7973  \n",
       "2                   41        3841  \n",
       "3                   17        1421  \n",
       "4                   11         836  "
      ]
     },
     "execution_count": 3,
     "metadata": {},
     "output_type": "execute_result"
    }
   ],
   "source": [
    "df.head(5)"
   ]
  },
  {
   "cell_type": "code",
   "execution_count": 4,
   "metadata": {},
   "outputs": [
    {
     "data": {
      "text/plain": [
       "city                   object\n",
       "area                    int64\n",
       "rooms                   int64\n",
       "bathroom                int64\n",
       "parking spaces          int64\n",
       "floor                  object\n",
       "animal                 object\n",
       "furniture              object\n",
       "hoa (R$)                int64\n",
       "rent amount (R$)        int64\n",
       "property tax (R$)       int64\n",
       "fire insurance (R$)     int64\n",
       "total (R$)              int64\n",
       "dtype: object"
      ]
     },
     "execution_count": 4,
     "metadata": {},
     "output_type": "execute_result"
    }
   ],
   "source": [
    "df.dtypes"
   ]
  },
  {
   "cell_type": "code",
   "execution_count": 5,
   "metadata": {},
   "outputs": [
    {
     "data": {
      "text/plain": [
       "int64     9\n",
       "object    4\n",
       "dtype: int64"
      ]
     },
     "execution_count": 5,
     "metadata": {},
     "output_type": "execute_result"
    }
   ],
   "source": [
    "df.dtypes.value_counts()"
   ]
  },
  {
   "cell_type": "code",
   "execution_count": 6,
   "metadata": {},
   "outputs": [
    {
     "name": "stdout",
     "output_type": "stream",
     "text": [
      "<class 'pandas.core.frame.DataFrame'>\n",
      "RangeIndex: 10692 entries, 0 to 10691\n",
      "Data columns (total 13 columns):\n",
      " #   Column               Non-Null Count  Dtype \n",
      "---  ------               --------------  ----- \n",
      " 0   city                 10692 non-null  object\n",
      " 1   area                 10692 non-null  int64 \n",
      " 2   rooms                10692 non-null  int64 \n",
      " 3   bathroom             10692 non-null  int64 \n",
      " 4   parking spaces       10692 non-null  int64 \n",
      " 5   floor                10692 non-null  object\n",
      " 6   animal               10692 non-null  object\n",
      " 7   furniture            10692 non-null  object\n",
      " 8   hoa (R$)             10692 non-null  int64 \n",
      " 9   rent amount (R$)     10692 non-null  int64 \n",
      " 10  property tax (R$)    10692 non-null  int64 \n",
      " 11  fire insurance (R$)  10692 non-null  int64 \n",
      " 12  total (R$)           10692 non-null  int64 \n",
      "dtypes: int64(9), object(4)\n",
      "memory usage: 1.1+ MB\n"
     ]
    }
   ],
   "source": [
    "df.info()"
   ]
  },
  {
   "cell_type": "markdown",
   "metadata": {},
   "source": [
    "# Problema : Explorar o valor do aluguel (rent amount RS)"
   ]
  },
  {
   "cell_type": "markdown",
   "metadata": {},
   "source": [
    "## Estatística univariada"
   ]
  },
  {
   "cell_type": "code",
   "execution_count": 7,
   "metadata": {},
   "outputs": [],
   "source": [
    "df.rename(columns = {'rent amount (R$)' : 'valor_aluguel'}, inplace = True)"
   ]
  },
  {
   "cell_type": "code",
   "execution_count": 8,
   "metadata": {},
   "outputs": [
    {
     "data": {
      "text/plain": [
       "3896.247194163861"
      ]
     },
     "execution_count": 8,
     "metadata": {},
     "output_type": "execute_result"
    }
   ],
   "source": [
    "df['valor_aluguel'].mean()"
   ]
  },
  {
   "cell_type": "code",
   "execution_count": 9,
   "metadata": {},
   "outputs": [
    {
     "data": {
      "text/plain": [
       "2661.0"
      ]
     },
     "execution_count": 9,
     "metadata": {},
     "output_type": "execute_result"
    }
   ],
   "source": [
    "df['valor_aluguel'].median()"
   ]
  },
  {
   "cell_type": "code",
   "execution_count": 10,
   "metadata": {},
   "outputs": [
    {
     "data": {
      "text/plain": [
       "2500.0"
      ]
     },
     "execution_count": 10,
     "metadata": {},
     "output_type": "execute_result"
    }
   ],
   "source": [
    "float(df['valor_aluguel'].mode())"
   ]
  },
  {
   "cell_type": "code",
   "execution_count": 11,
   "metadata": {},
   "outputs": [
    {
     "data": {
      "text/plain": [
       "3408.5455176710816"
      ]
     },
     "execution_count": 11,
     "metadata": {},
     "output_type": "execute_result"
    }
   ],
   "source": [
    "df['valor_aluguel'].std()"
   ]
  },
  {
   "cell_type": "code",
   "execution_count": 12,
   "metadata": {},
   "outputs": [
    {
     "data": {
      "text/plain": [
       "count    10692.000000\n",
       "mean      3896.247194\n",
       "std       3408.545518\n",
       "min        450.000000\n",
       "25%       1530.000000\n",
       "50%       2661.000000\n",
       "75%       5000.000000\n",
       "max      45000.000000\n",
       "Name: valor_aluguel, dtype: float64"
      ]
     },
     "execution_count": 12,
     "metadata": {},
     "output_type": "execute_result"
    }
   ],
   "source": [
    "df['valor_aluguel'].describe()"
   ]
  },
  {
   "cell_type": "code",
   "execution_count": 13,
   "metadata": {},
   "outputs": [
    {
     "data": {
      "text/plain": [
       "<matplotlib.axes._subplots.AxesSubplot at 0x7f5b86b1fc50>"
      ]
     },
     "execution_count": 13,
     "metadata": {},
     "output_type": "execute_result"
    },
    {
     "data": {
      "image/png": "[encoded data removed]",
      "text/plain": [
       "<Figure size 432x288 with 1 Axes>"
      ]
     },
     "metadata": {
      "needs_background": "light"
     },
     "output_type": "display_data"
    }
   ],
   "source": [
    "df['valor_aluguel'].plot(kind = 'hist', bins= 100)"
   ]
  },
  {
   "cell_type": "code",
   "execution_count": 14,
   "metadata": {},
   "outputs": [
    {
     "data": {
      "text/plain": [
       "10692"
      ]
     },
     "execution_count": 14,
     "metadata": {},
     "output_type": "execute_result"
    }
   ],
   "source": [
    "df.shape[0]"
   ]
  },
  {
   "cell_type": "code",
   "execution_count": 15,
   "metadata": {},
   "outputs": [
    {
     "data": {
      "text/plain": [
       "8019.0"
      ]
     },
     "execution_count": 15,
     "metadata": {},
     "output_type": "execute_result"
    }
   ],
   "source": [
    "10692 * 0.75"
   ]
  },
  {
   "cell_type": "code",
   "execution_count": 16,
   "metadata": {},
   "outputs": [
    {
     "data": {
      "text/plain": [
       "5346.0"
      ]
     },
     "execution_count": 16,
     "metadata": {},
     "output_type": "execute_result"
    }
   ],
   "source": [
    "10692 * 0.50"
   ]
  },
  {
   "cell_type": "code",
   "execution_count": 17,
   "metadata": {},
   "outputs": [
    {
     "data": {
      "text/plain": [
       "2673.0"
      ]
     },
     "execution_count": 17,
     "metadata": {},
     "output_type": "execute_result"
    }
   ],
   "source": [
    "10692 * 0.25"
   ]
  },
  {
   "cell_type": "code",
   "execution_count": 18,
   "metadata": {},
   "outputs": [
    {
     "data": {
      "text/plain": [
       "1.8388773035440982"
      ]
     },
     "execution_count": 18,
     "metadata": {},
     "output_type": "execute_result"
    }
   ],
   "source": [
    "#skewness positive skew\n",
    "df.valor_aluguel.skew()"
   ]
  },
  {
   "cell_type": "code",
   "execution_count": 19,
   "metadata": {},
   "outputs": [
    {
     "data": {
      "text/plain": [
       "4.624228179818687"
      ]
     },
     "execution_count": 19,
     "metadata": {},
     "output_type": "execute_result"
    }
   ],
   "source": [
    "#kurtose - leptocurtica\n",
    "df.valor_aluguel.kurtosis()"
   ]
  },
  {
   "cell_type": "markdown",
   "metadata": {},
   "source": [
    "## Exploracao multivariáveis"
   ]
  },
  {
   "cell_type": "markdown",
   "metadata": {},
   "source": [
    "### Perguntas\n",
    " \n",
    "- Qual a cidade com a média de aluguel mais cara? \n",
    "- Quantos banheiros existem nas residencias com alugueis mais altos? \n",
    "- Os imóveis mais caros aceitam animal? \n",
    "- Os imóveis mais caros são mobiliados? "
   ]
  },
  {
   "cell_type": "code",
   "execution_count": 40,
   "metadata": {},
   "outputs": [
    {
     "data": {
      "text/html": [
       "<div>\n",
       "<style scoped>\n",
       "    .dataframe tbody tr th:only-of-type {\n",
       "        vertical-align: middle;\n",
       "    }\n",
       "\n",
       "    .dataframe tbody tr th {\n",
       "        vertical-align: top;\n",
       "    }\n",
       "\n",
       "    .dataframe thead th {\n",
       "        text-align: right;\n",
       "    }\n",
       "</style>\n",
       "<table border=\"1\" class=\"dataframe\">\n",
       "  <thead>\n",
       "    <tr style=\"text-align: right;\">\n",
       "      <th></th>\n",
       "      <th>city</th>\n",
       "      <th>valor_aluguel</th>\n",
       "    </tr>\n",
       "  </thead>\n",
       "  <tbody>\n",
       "    <tr>\n",
       "      <th>4</th>\n",
       "      <td>São Paulo</td>\n",
       "      <td>3400</td>\n",
       "    </tr>\n",
       "    <tr>\n",
       "      <th>0</th>\n",
       "      <td>Belo Horizonte</td>\n",
       "      <td>2300</td>\n",
       "    </tr>\n",
       "    <tr>\n",
       "      <th>3</th>\n",
       "      <td>Rio de Janeiro</td>\n",
       "      <td>2300</td>\n",
       "    </tr>\n",
       "    <tr>\n",
       "      <th>2</th>\n",
       "      <td>Porto Alegre</td>\n",
       "      <td>1650</td>\n",
       "    </tr>\n",
       "    <tr>\n",
       "      <th>1</th>\n",
       "      <td>Campinas</td>\n",
       "      <td>1500</td>\n",
       "    </tr>\n",
       "  </tbody>\n",
       "</table>\n",
       "</div>"
      ],
      "text/plain": [
       "             city  valor_aluguel\n",
       "4       São Paulo           3400\n",
       "0  Belo Horizonte           2300\n",
       "3  Rio de Janeiro           2300\n",
       "2    Porto Alegre           1650\n",
       "1        Campinas           1500"
      ]
     },
     "execution_count": 40,
     "metadata": {},
     "output_type": "execute_result"
    }
   ],
   "source": [
    "#Qual a cidade com a média de aluguel mais alta? \n",
    "\n",
    "df.groupby('city')['valor_aluguel'].median().reset_index().sort_values('valor_aluguel', ascending = False)"
   ]
  },
  {
   "cell_type": "code",
   "execution_count": 41,
   "metadata": {},
   "outputs": [],
   "source": [
    "#Quantos banheiros existem em média nas residencias com alugueis mais altos? \n",
    "## definicao: algueis mais altos são valores acima de 5000\n",
    "\n",
    "df['aluguel_alto'] = ['Alto' if x > 5000 else 'Baixo' for x in df['valor_aluguel']]\n"
   ]
  },
  {
   "cell_type": "code",
   "execution_count": 42,
   "metadata": {},
   "outputs": [
    {
     "data": {
      "text/plain": [
       "aluguel_alto\n",
       "Alto     3.729027\n",
       "Baixo    1.772108\n",
       "Name: bathroom, dtype: float64"
      ]
     },
     "execution_count": 42,
     "metadata": {},
     "output_type": "execute_result"
    }
   ],
   "source": [
    "df.groupby('aluguel_alto')['bathroom'].mean()"
   ]
  },
  {
   "cell_type": "markdown",
   "metadata": {},
   "source": [
    "### Hipóteses\n",
    "\n",
    "- São Paulo é a cidade com o aluguel mais caro.\n",
    "- Quanto mais banheiros em um imovel maior o valor do aluguel.\n",
    "- Os imoveis com mobilia tem o aluguel mais alto. "
   ]
  },
  {
   "cell_type": "code",
   "execution_count": 43,
   "metadata": {},
   "outputs": [
    {
     "data": {
      "text/html": [
       "<div>\n",
       "<style scoped>\n",
       "    .dataframe tbody tr th:only-of-type {\n",
       "        vertical-align: middle;\n",
       "    }\n",
       "\n",
       "    .dataframe tbody tr th {\n",
       "        vertical-align: top;\n",
       "    }\n",
       "\n",
       "    .dataframe thead th {\n",
       "        text-align: right;\n",
       "    }\n",
       "</style>\n",
       "<table border=\"1\" class=\"dataframe\">\n",
       "  <thead>\n",
       "    <tr style=\"text-align: right;\">\n",
       "      <th></th>\n",
       "      <th>valor_aluguel</th>\n",
       "      <th>bathroom</th>\n",
       "    </tr>\n",
       "  </thead>\n",
       "  <tbody>\n",
       "    <tr>\n",
       "      <th>valor_aluguel</th>\n",
       "      <td>1.00000</td>\n",
       "      <td>0.71589</td>\n",
       "    </tr>\n",
       "    <tr>\n",
       "      <th>bathroom</th>\n",
       "      <td>0.71589</td>\n",
       "      <td>1.00000</td>\n",
       "    </tr>\n",
       "  </tbody>\n",
       "</table>\n",
       "</div>"
      ],
      "text/plain": [
       "               valor_aluguel  bathroom\n",
       "valor_aluguel        1.00000   0.71589\n",
       "bathroom             0.71589   1.00000"
      ]
     },
     "execution_count": 43,
     "metadata": {},
     "output_type": "execute_result"
    }
   ],
   "source": [
    "df[['valor_aluguel', 'bathroom']].corr(method = 'spearman')"
   ]
  },
  {
   "cell_type": "code",
   "execution_count": 44,
   "metadata": {},
   "outputs": [
    {
     "data": {
      "text/html": [
       "<div>\n",
       "<style scoped>\n",
       "    .dataframe tbody tr th:only-of-type {\n",
       "        vertical-align: middle;\n",
       "    }\n",
       "\n",
       "    .dataframe tbody tr th {\n",
       "        vertical-align: top;\n",
       "    }\n",
       "\n",
       "    .dataframe thead th {\n",
       "        text-align: right;\n",
       "    }\n",
       "</style>\n",
       "<table border=\"1\" class=\"dataframe\">\n",
       "  <thead>\n",
       "    <tr style=\"text-align: right;\">\n",
       "      <th></th>\n",
       "      <th>area</th>\n",
       "      <th>rooms</th>\n",
       "      <th>bathroom</th>\n",
       "      <th>parking spaces</th>\n",
       "      <th>hoa (R$)</th>\n",
       "      <th>valor_aluguel</th>\n",
       "      <th>property tax (R$)</th>\n",
       "      <th>fire insurance (R$)</th>\n",
       "      <th>total (R$)</th>\n",
       "    </tr>\n",
       "  </thead>\n",
       "  <tbody>\n",
       "    <tr>\n",
       "      <th>area</th>\n",
       "      <td>1.000000</td>\n",
       "      <td>0.848880</td>\n",
       "      <td>0.827743</td>\n",
       "      <td>0.701161</td>\n",
       "      <td>0.225983</td>\n",
       "      <td>0.728095</td>\n",
       "      <td>0.682270</td>\n",
       "      <td>0.745816</td>\n",
       "      <td>0.742642</td>\n",
       "    </tr>\n",
       "    <tr>\n",
       "      <th>rooms</th>\n",
       "      <td>0.848880</td>\n",
       "      <td>1.000000</td>\n",
       "      <td>0.769822</td>\n",
       "      <td>0.646679</td>\n",
       "      <td>0.206182</td>\n",
       "      <td>0.600969</td>\n",
       "      <td>0.595516</td>\n",
       "      <td>0.613788</td>\n",
       "      <td>0.621837</td>\n",
       "    </tr>\n",
       "    <tr>\n",
       "      <th>bathroom</th>\n",
       "      <td>0.827743</td>\n",
       "      <td>0.769822</td>\n",
       "      <td>1.000000</td>\n",
       "      <td>0.702826</td>\n",
       "      <td>0.293821</td>\n",
       "      <td>0.715890</td>\n",
       "      <td>0.654556</td>\n",
       "      <td>0.721150</td>\n",
       "      <td>0.740281</td>\n",
       "    </tr>\n",
       "    <tr>\n",
       "      <th>parking spaces</th>\n",
       "      <td>0.701161</td>\n",
       "      <td>0.646679</td>\n",
       "      <td>0.702826</td>\n",
       "      <td>1.000000</td>\n",
       "      <td>0.229139</td>\n",
       "      <td>0.620175</td>\n",
       "      <td>0.582921</td>\n",
       "      <td>0.625150</td>\n",
       "      <td>0.641078</td>\n",
       "    </tr>\n",
       "    <tr>\n",
       "      <th>hoa (R$)</th>\n",
       "      <td>0.225983</td>\n",
       "      <td>0.206182</td>\n",
       "      <td>0.293821</td>\n",
       "      <td>0.229139</td>\n",
       "      <td>1.000000</td>\n",
       "      <td>0.355785</td>\n",
       "      <td>0.392537</td>\n",
       "      <td>0.293228</td>\n",
       "      <td>0.519755</td>\n",
       "    </tr>\n",
       "    <tr>\n",
       "      <th>valor_aluguel</th>\n",
       "      <td>0.728095</td>\n",
       "      <td>0.600969</td>\n",
       "      <td>0.715890</td>\n",
       "      <td>0.620175</td>\n",
       "      <td>0.355785</td>\n",
       "      <td>1.000000</td>\n",
       "      <td>0.659230</td>\n",
       "      <td>0.988045</td>\n",
       "      <td>0.968176</td>\n",
       "    </tr>\n",
       "    <tr>\n",
       "      <th>property tax (R$)</th>\n",
       "      <td>0.682270</td>\n",
       "      <td>0.595516</td>\n",
       "      <td>0.654556</td>\n",
       "      <td>0.582921</td>\n",
       "      <td>0.392537</td>\n",
       "      <td>0.659230</td>\n",
       "      <td>1.000000</td>\n",
       "      <td>0.656049</td>\n",
       "      <td>0.731439</td>\n",
       "    </tr>\n",
       "    <tr>\n",
       "      <th>fire insurance (R$)</th>\n",
       "      <td>0.745816</td>\n",
       "      <td>0.613788</td>\n",
       "      <td>0.721150</td>\n",
       "      <td>0.625150</td>\n",
       "      <td>0.293228</td>\n",
       "      <td>0.988045</td>\n",
       "      <td>0.656049</td>\n",
       "      <td>1.000000</td>\n",
       "      <td>0.945772</td>\n",
       "    </tr>\n",
       "    <tr>\n",
       "      <th>total (R$)</th>\n",
       "      <td>0.742642</td>\n",
       "      <td>0.621837</td>\n",
       "      <td>0.740281</td>\n",
       "      <td>0.641078</td>\n",
       "      <td>0.519755</td>\n",
       "      <td>0.968176</td>\n",
       "      <td>0.731439</td>\n",
       "      <td>0.945772</td>\n",
       "      <td>1.000000</td>\n",
       "    </tr>\n",
       "  </tbody>\n",
       "</table>\n",
       "</div>"
      ],
      "text/plain": [
       "                         area     rooms  bathroom  parking spaces  hoa (R$)  \\\n",
       "area                 1.000000  0.848880  0.827743        0.701161  0.225983   \n",
       "rooms                0.848880  1.000000  0.769822        0.646679  0.206182   \n",
       "bathroom             0.827743  0.769822  1.000000        0.702826  0.293821   \n",
       "parking spaces       0.701161  0.646679  0.702826        1.000000  0.229139   \n",
       "hoa (R$)             0.225983  0.206182  0.293821        0.229139  1.000000   \n",
       "valor_aluguel        0.728095  0.600969  0.715890        0.620175  0.355785   \n",
       "property tax (R$)    0.682270  0.595516  0.654556        0.582921  0.392537   \n",
       "fire insurance (R$)  0.745816  0.613788  0.721150        0.625150  0.293228   \n",
       "total (R$)           0.742642  0.621837  0.740281        0.641078  0.519755   \n",
       "\n",
       "                     valor_aluguel  property tax (R$)  fire insurance (R$)  \\\n",
       "area                      0.728095           0.682270             0.745816   \n",
       "rooms                     0.600969           0.595516             0.613788   \n",
       "bathroom                  0.715890           0.654556             0.721150   \n",
       "parking spaces            0.620175           0.582921             0.625150   \n",
       "hoa (R$)                  0.355785           0.392537             0.293228   \n",
       "valor_aluguel             1.000000           0.659230             0.988045   \n",
       "property tax (R$)         0.659230           1.000000             0.656049   \n",
       "fire insurance (R$)       0.988045           0.656049             1.000000   \n",
       "total (R$)                0.968176           0.731439             0.945772   \n",
       "\n",
       "                     total (R$)  \n",
       "area                   0.742642  \n",
       "rooms                  0.621837  \n",
       "bathroom               0.740281  \n",
       "parking spaces         0.641078  \n",
       "hoa (R$)               0.519755  \n",
       "valor_aluguel          0.968176  \n",
       "property tax (R$)      0.731439  \n",
       "fire insurance (R$)    0.945772  \n",
       "total (R$)             1.000000  "
      ]
     },
     "execution_count": 44,
     "metadata": {},
     "output_type": "execute_result"
    }
   ],
   "source": [
    "df.corr(method = 'spearman')"
   ]
  },
  {
   "cell_type": "code",
   "execution_count": 45,
   "metadata": {},
   "outputs": [],
   "source": [
    "aux = pd.DataFrame({'colunas' : df.columns, 'tipos' : df.dtypes})"
   ]
  },
  {
   "cell_type": "code",
   "execution_count": 46,
   "metadata": {},
   "outputs": [
    {
     "data": {
      "text/html": [
       "<div>\n",
       "<style scoped>\n",
       "    .dataframe tbody tr th:only-of-type {\n",
       "        vertical-align: middle;\n",
       "    }\n",
       "\n",
       "    .dataframe tbody tr th {\n",
       "        vertical-align: top;\n",
       "    }\n",
       "\n",
       "    .dataframe thead th {\n",
       "        text-align: right;\n",
       "    }\n",
       "</style>\n",
       "<table border=\"1\" class=\"dataframe\">\n",
       "  <thead>\n",
       "    <tr style=\"text-align: right;\">\n",
       "      <th></th>\n",
       "      <th>colunas</th>\n",
       "      <th>tipos</th>\n",
       "    </tr>\n",
       "  </thead>\n",
       "  <tbody>\n",
       "    <tr>\n",
       "      <th>city</th>\n",
       "      <td>city</td>\n",
       "      <td>object</td>\n",
       "    </tr>\n",
       "    <tr>\n",
       "      <th>area</th>\n",
       "      <td>area</td>\n",
       "      <td>int64</td>\n",
       "    </tr>\n",
       "    <tr>\n",
       "      <th>rooms</th>\n",
       "      <td>rooms</td>\n",
       "      <td>int64</td>\n",
       "    </tr>\n",
       "    <tr>\n",
       "      <th>bathroom</th>\n",
       "      <td>bathroom</td>\n",
       "      <td>int64</td>\n",
       "    </tr>\n",
       "    <tr>\n",
       "      <th>parking spaces</th>\n",
       "      <td>parking spaces</td>\n",
       "      <td>int64</td>\n",
       "    </tr>\n",
       "    <tr>\n",
       "      <th>floor</th>\n",
       "      <td>floor</td>\n",
       "      <td>object</td>\n",
       "    </tr>\n",
       "    <tr>\n",
       "      <th>animal</th>\n",
       "      <td>animal</td>\n",
       "      <td>object</td>\n",
       "    </tr>\n",
       "    <tr>\n",
       "      <th>furniture</th>\n",
       "      <td>furniture</td>\n",
       "      <td>object</td>\n",
       "    </tr>\n",
       "    <tr>\n",
       "      <th>hoa (R$)</th>\n",
       "      <td>hoa (R$)</td>\n",
       "      <td>int64</td>\n",
       "    </tr>\n",
       "    <tr>\n",
       "      <th>valor_aluguel</th>\n",
       "      <td>valor_aluguel</td>\n",
       "      <td>int64</td>\n",
       "    </tr>\n",
       "    <tr>\n",
       "      <th>property tax (R$)</th>\n",
       "      <td>property tax (R$)</td>\n",
       "      <td>int64</td>\n",
       "    </tr>\n",
       "    <tr>\n",
       "      <th>fire insurance (R$)</th>\n",
       "      <td>fire insurance (R$)</td>\n",
       "      <td>int64</td>\n",
       "    </tr>\n",
       "    <tr>\n",
       "      <th>total (R$)</th>\n",
       "      <td>total (R$)</td>\n",
       "      <td>int64</td>\n",
       "    </tr>\n",
       "    <tr>\n",
       "      <th>aluguel_alto</th>\n",
       "      <td>aluguel_alto</td>\n",
       "      <td>object</td>\n",
       "    </tr>\n",
       "  </tbody>\n",
       "</table>\n",
       "</div>"
      ],
      "text/plain": [
       "                                 colunas   tipos\n",
       "city                                city  object\n",
       "area                                area   int64\n",
       "rooms                              rooms   int64\n",
       "bathroom                        bathroom   int64\n",
       "parking spaces            parking spaces   int64\n",
       "floor                              floor  object\n",
       "animal                            animal  object\n",
       "furniture                      furniture  object\n",
       "hoa (R$)                        hoa (R$)   int64\n",
       "valor_aluguel              valor_aluguel   int64\n",
       "property tax (R$)      property tax (R$)   int64\n",
       "fire insurance (R$)  fire insurance (R$)   int64\n",
       "total (R$)                    total (R$)   int64\n",
       "aluguel_alto                aluguel_alto  object"
      ]
     },
     "execution_count": 46,
     "metadata": {},
     "output_type": "execute_result"
    }
   ],
   "source": [
    "aux"
   ]
  },
  {
   "cell_type": "code",
   "execution_count": 47,
   "metadata": {},
   "outputs": [],
   "source": [
    "lista = list(aux[aux['tipos'] == 'int64']['colunas'])"
   ]
  },
  {
   "cell_type": "code",
   "execution_count": 48,
   "metadata": {},
   "outputs": [
    {
     "data": {
      "text/plain": [
       "['area',\n",
       " 'rooms',\n",
       " 'bathroom',\n",
       " 'parking spaces',\n",
       " 'hoa (R$)',\n",
       " 'valor_aluguel',\n",
       " 'property tax (R$)',\n",
       " 'fire insurance (R$)',\n",
       " 'total (R$)']"
      ]
     },
     "execution_count": 48,
     "metadata": {},
     "output_type": "execute_result"
    }
   ],
   "source": [
    "lista"
   ]
  },
  {
   "cell_type": "code",
   "execution_count": 60,
   "metadata": {},
   "outputs": [
    {
     "name": "stdout",
     "output_type": "stream",
     "text": [
      "area\n",
      "               valor_aluguel      area\n",
      "valor_aluguel       1.000000  0.728095\n",
      "area                0.728095  1.000000\n",
      "\n",
      "\n",
      "rooms\n",
      "               valor_aluguel     rooms\n",
      "valor_aluguel       1.000000  0.600969\n",
      "rooms               0.600969  1.000000\n",
      "\n",
      "\n",
      "bathroom\n",
      "               valor_aluguel  bathroom\n",
      "valor_aluguel        1.00000   0.71589\n",
      "bathroom             0.71589   1.00000\n",
      "\n",
      "\n",
      "parking spaces\n",
      "                valor_aluguel  parking spaces\n",
      "valor_aluguel        1.000000        0.620175\n",
      "parking spaces       0.620175        1.000000\n",
      "\n",
      "\n",
      "hoa (R$)\n",
      "               valor_aluguel  hoa (R$)\n",
      "valor_aluguel       1.000000  0.355785\n",
      "hoa (R$)            0.355785  1.000000\n",
      "\n",
      "\n",
      "valor_aluguel\n",
      "               valor_aluguel  valor_aluguel\n",
      "valor_aluguel            1.0            1.0\n",
      "valor_aluguel            1.0            1.0\n",
      "\n",
      "\n",
      "property tax (R$)\n",
      "                   valor_aluguel  property tax (R$)\n",
      "valor_aluguel            1.00000            0.65923\n",
      "property tax (R$)        0.65923            1.00000\n",
      "\n",
      "\n",
      "fire insurance (R$)\n",
      "                     valor_aluguel  fire insurance (R$)\n",
      "valor_aluguel             1.000000             0.988045\n",
      "fire insurance (R$)       0.988045             1.000000\n",
      "\n",
      "\n",
      "total (R$)\n",
      "               valor_aluguel  total (R$)\n",
      "valor_aluguel       1.000000    0.968176\n",
      "total (R$)          0.968176    1.000000\n",
      "\n",
      "\n"
     ]
    }
   ],
   "source": [
    "for coluna in lista:\n",
    "    print(coluna)\n",
    "    print(str(df[['valor_aluguel', coluna]].corr(method = 'spearman')) + '\\n\\n')"
   ]
  },
  {
   "cell_type": "markdown",
   "metadata": {},
   "source": [
    "## Visualização de dados"
   ]
  },
  {
   "cell_type": "code",
   "execution_count": 66,
   "metadata": {},
   "outputs": [],
   "source": [
    "import seaborn as sns\n",
    "import matplotlib.pyplot as plt"
   ]
  },
  {
   "cell_type": "code",
   "execution_count": 67,
   "metadata": {},
   "outputs": [
    {
     "data": {
      "text/plain": [
       "São Paulo         5887\n",
       "Rio de Janeiro    1501\n",
       "Belo Horizonte    1258\n",
       "Porto Alegre      1193\n",
       "Campinas           853\n",
       "Name: city, dtype: int64"
      ]
     },
     "execution_count": 67,
     "metadata": {},
     "output_type": "execute_result"
    }
   ],
   "source": [
    "df.city.value_counts()"
   ]
  },
  {
   "cell_type": "code",
   "execution_count": 68,
   "metadata": {},
   "outputs": [
    {
     "data": {
      "text/plain": [
       "<matplotlib.axes._subplots.AxesSubplot at 0x7f5b7a525f50>"
      ]
     },
     "execution_count": 68,
     "metadata": {},
     "output_type": "execute_result"
    },
    {
     "data": {
      "image/png": "[encoded data removed]",
      "text/plain": [
       "<Figure size 432x288 with 1 Axes>"
      ]
     },
     "metadata": {
      "needs_background": "light"
     },
     "output_type": "display_data"
    }
   ],
   "source": [
    "sns.countplot(x = 'city', data = df)"
   ]
  },
  {
   "cell_type": "code",
   "execution_count": 77,
   "metadata": {},
   "outputs": [
    {
     "data": {
      "image/png": "[encoded data removed]",
      "text/plain": [
       "<Figure size 864x432 with 1 Axes>"
      ]
     },
     "metadata": {
      "needs_background": "light"
     },
     "output_type": "display_data"
    }
   ],
   "source": [
    "plt.figure(figsize = (12,6))\n",
    "sns.barplot(x = 'city', y = 'valor_aluguel', data = df.groupby('city')['valor_aluguel'].mean().reset_index())\n",
    "plt.title('Média do valor de aluguel por cidade')\n",
    "plt.xticks(rotation = 90)\n",
    "plt.show()"
   ]
  },
  {
   "cell_type": "code",
   "execution_count": 78,
   "metadata": {},
   "outputs": [
    {
     "data": {
      "text/plain": [
       "<matplotlib.axes._subplots.AxesSubplot at 0x7f5b79a74250>"
      ]
     },
     "execution_count": 78,
     "metadata": {},
     "output_type": "execute_result"
    },
    {
     "data": {
      "image/png": "[encoded data removed]",
      "text/plain": [
       "<Figure size 432x288 with 1 Axes>"
      ]
     },
     "metadata": {
      "needs_background": "light"
     },
     "output_type": "display_data"
    }
   ],
   "source": [
    "sns.distplot(df['valor_aluguel'])"
   ]
  },
  {
   "cell_type": "code",
   "execution_count": 83,
   "metadata": {},
   "outputs": [
    {
     "data": {
      "text/plain": [
       "<matplotlib.axes._subplots.AxesSubplot at 0x7f5b78c872d0>"
      ]
     },
     "execution_count": 83,
     "metadata": {},
     "output_type": "execute_result"
    },
    {
     "data": {
      "image/png": "[encoded data removed]",
      "text/plain": [
       "<Figure size 432x288 with 1 Axes>"
      ]
     },
     "metadata": {
      "needs_background": "light"
     },
     "output_type": "display_data"
    }
   ],
   "source": [
    "sns.scatterplot(x = 'valor_aluguel', y = 'bathroom', hue = 'city', size = ('aluguel_alto'), data = df)"
   ]
  },
  {
   "cell_type": "code",
   "execution_count": 86,
   "metadata": {},
   "outputs": [
    {
     "data": {
      "text/plain": [
       "<matplotlib.axes._subplots.AxesSubplot at 0x7f5b789e2f90>"
      ]
     },
     "execution_count": 86,
     "metadata": {},
     "output_type": "execute_result"
    },
    {
     "data": {
      "image/png": "[encoded data removed]",
      "text/plain": [
       "<Figure size 432x288 with 2 Axes>"
      ]
     },
     "metadata": {
      "needs_background": "light"
     },
     "output_type": "display_data"
    }
   ],
   "source": [
    "sns.heatmap(df.corr(), annot = True)"
   ]
  },
  {
   "cell_type": "code",
   "execution_count": 90,
   "metadata": {},
   "outputs": [
    {
     "data": {
      "text/plain": [
       "<seaborn.axisgrid.FacetGrid at 0x7f5b786c5d90>"
      ]
     },
     "execution_count": 90,
     "metadata": {},
     "output_type": "execute_result"
    },
    {
     "data": {
      "image/png": "[encoded data removed]",
      "text/plain": [
       "<Figure size 1080x432 with 10 Axes>"
      ]
     },
     "metadata": {
      "needs_background": "light"
     },
     "output_type": "display_data"
    }
   ],
   "source": [
    "sns.FacetGrid(df, col = 'city', row = 'aluguel_alto').map(plt.hist, 'valor_aluguel')"
   ]
  },
  {
   "cell_type": "code",
   "execution_count": 91,
   "metadata": {},
   "outputs": [
    {
     "data": {
      "text/plain": [
       "<seaborn.axisgrid.FacetGrid at 0x7f5b78475190>"
      ]
     },
     "execution_count": 91,
     "metadata": {},
     "output_type": "execute_result"
    },
    {
     "data": {
      "image/png": "[encoded data removed]",
      "text/plain": [
       "<Figure size 432x1080 with 10 Axes>"
      ]
     },
     "metadata": {
      "needs_background": "light"
     },
     "output_type": "display_data"
    }
   ],
   "source": [
    "sns.FacetGrid(df, col = 'aluguel_alto', row = 'city').map(plt.hist, 'valor_aluguel')"
   ]
  },
  {
   "cell_type": "code",
   "execution_count": null,
   "metadata": {},
   "outputs": [],
   "source": []
  }
 ],
 "metadata": {
  "kernelspec": {
   "display_name": "Python 3",
   "language": "python",
   "name": "python3"
  },
  "language_info": {
   "codemirror_mode": {
    "name": "ipython",
    "version": 3
   },
   "file_extension": ".py",
   "mimetype": "text/x-python",
   "name": "python",
   "nbconvert_exporter": "python",
   "pygments_lexer": "ipython3",
   "version": "3.7.6"
  }
 },
 "nbformat": 4,
 "nbformat_minor": 4
}
